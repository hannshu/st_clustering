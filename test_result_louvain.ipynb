{
 "cells": [
  {
   "cell_type": "code",
   "execution_count": 1,
   "metadata": {},
   "outputs": [],
   "source": [
    "from Scanpy.run import train\n",
    "from st_datasets.dataset import *\n",
    "from tools import evaluate\n",
    "\n",
    "result = []"
   ]
  },
  {
   "attachments": {},
   "cell_type": "markdown",
   "metadata": {},
   "source": [
    "# human breast cancer"
   ]
  },
  {
   "cell_type": "code",
   "execution_count": 2,
   "metadata": {},
   "outputs": [
    {
     "name": "stderr",
     "output_type": "stream",
     "text": [
      "/mnt/5280e/twang/.conda/envs/torch+pyg/lib/python3.8/site-packages/anndata/_core/anndata.py:1830: UserWarning: Variable names are not unique. To make them unique, call `.var_names_make_unique`.\n",
      "  utils.warn_names_duplicates(\"var\")\n"
     ]
    },
    {
     "name": "stdout",
     "output_type": "stream",
     "text": [
      ">>> INFO: dataset name: human_breast_cancer, size: (3798, 36601), cluster: 20.(8.076s)\n"
     ]
    },
    {
     "name": "stderr",
     "output_type": "stream",
     "text": [
      "/mnt/5280e/twang/.conda/envs/torch+pyg/lib/python3.8/site-packages/scanpy/preprocessing/_highly_variable_genes.py:62: UserWarning: `flavor='seurat_v3'` expects raw count data, but non-integers were found.\n",
      "  warnings.warn(\n"
     ]
    },
    {
     "name": "stdout",
     "output_type": "stream",
     "text": [
      "WARNING: adata.X seems to be already log-transformed.\n"
     ]
    },
    {
     "name": "stderr",
     "output_type": "stream",
     "text": [
      "OMP: Info #276: omp_set_nested routine deprecated, please use omp_set_max_active_levels instead.\n"
     ]
    },
    {
     "name": "stdout",
     "output_type": "stream",
     "text": [
      ">>> cluster: 11, modify resolution: 1.01, lr: 0.01\n",
      ">>> cluster: 11, modify resolution: 1.0161401807413937, lr: 0.006140180741393743\n",
      ">>> cluster: 11, modify resolution: 1.0211227910724376, lr: 0.00498261033104405\n",
      ">>> cluster: 11, modify resolution: 1.025969966923063, lr: 0.00484717585062545\n",
      ">>> cluster: 11, modify resolution: 1.028465087681787, lr: 0.00249512075872379\n",
      ">>> cluster: 11, modify resolution: 1.038465087681787, lr: 0.01\n",
      ">>> cluster: 11, modify resolution: 1.0465805935261996, lr: 0.008115505844412577\n",
      ">>> cluster: 11, modify resolution: 1.0504644655416573, lr: 0.0038838720154577996\n",
      ">>> cluster: 11, modify resolution: 1.0536099904890086, lr: 0.0031455249473513035\n",
      ">>> cluster: 11, modify resolution: 1.0552477231834674, lr: 0.0016377326944587015\n",
      ">>> cluster: 11, modify resolution: 1.0652477231834674, lr: 0.01\n",
      ">>> cluster: 11, modify resolution: 1.075049821225948, lr: 0.009802098042480653\n",
      ">>> cluster: 11, modify resolution: 1.0824477292609986, lr: 0.0073979080350505605\n",
      ">>> cluster: 11, modify resolution: 1.0862496868373945, lr: 0.003801957576395912\n",
      ">>> cluster: 11, modify resolution: 1.0897005320725746, lr: 0.0034508452351800977\n",
      ">>> cluster: 11, modify resolution: 1.0997005320725746, lr: 0.01\n",
      ">>> cluster: 11, modify resolution: 1.1096361173537792, lr: 0.009935585281204569\n",
      ">>> cluster: 11, modify resolution: 1.1102613032767188, lr: 0.0006251859229395438\n",
      ">>> cluster: 11, modify resolution: 1.1107510340780415, lr: 0.0004897308013226888\n",
      ">>> cluster: 11, modify resolution: 1.1108526215444112, lr: 0.00010158746636973588\n",
      ">>> cluster: 11, modify resolution: 1.1208526215444112, lr: 0.01\n",
      ">>> cluster: 11, modify resolution: 1.1253269484065214, lr: 0.004474326862110033\n",
      ">>> cluster: 11, modify resolution: 1.1264228669270622, lr: 0.0010959185205407754\n",
      ">>> cluster: 11, modify resolution: 1.1271607149000438, lr: 0.0007378479729815955\n",
      ">>> cluster: 11, modify resolution: 1.1278730657331029, lr: 0.0007123508330589977\n",
      ">>> cluster: 11, modify resolution: 1.1378730657331029, lr: 0.01\n",
      ">>> cluster: 11, modify resolution: 1.1391077034829453, lr: 0.0012346377498424288\n",
      ">>> cluster: 11, modify resolution: 1.1396901735352432, lr: 0.0005824700522978268\n",
      ">>> cluster: 11, modify resolution: 1.1397308267016706, lr: 4.065316642745975e-05\n",
      ">>> cluster: 11, modify resolution: 1.1397444684302378, lr: 1.3641728567215918e-05\n",
      ">>> cluster: 11, modify resolution: 1.1497444684302378, lr: 0.01\n",
      ">>> cluster: 11, modify resolution: 1.1506756463301415, lr: 0.0009311778999036846\n",
      ">>> cluster: 11, modify resolution: 1.151088242059812, lr: 0.00041259572967056694\n",
      ">>> cluster: 11, modify resolution: 1.1513003308943985, lr: 0.00021208883458641049\n",
      ">>> cluster: 11, modify resolution: 1.151300761882279, lr: 4.309878803868341e-07\n",
      ">>> cluster: 11, modify resolution: 1.161300761882279, lr: 0.01\n",
      ">>> cluster: 11, modify resolution: 1.1637499814036447, lr: 0.0024492195213657387\n",
      ">>> cluster: 11, modify resolution: 1.1646507771599972, lr: 0.0009007957563525895\n",
      ">>> cluster: 11, modify resolution: 1.16500465049127, lr: 0.0003538733312729212\n",
      ">>> cluster: 11, modify resolution: 1.1650998663448795, lr: 9.521585360929348e-05\n",
      ">>> cluster: 11, modify resolution: 1.1750998663448795, lr: 0.01\n",
      ">>> cluster: 11, modify resolution: 1.1810621875512912, lr: 0.005962321206411801\n",
      ">>> cluster: 11, modify resolution: 1.1838044978538997, lr: 0.0027423103026085324\n",
      ">>> cluster: 11, modify resolution: 1.1853301026767051, lr: 0.0015256048228053482\n",
      ">>> cluster: 11, modify resolution: 1.1859111485767833, lr: 0.0005810459000781427\n",
      ">>> cluster: 11, modify resolution: 1.1959111485767833, lr: 0.01\n",
      ">>> cluster: 11, modify resolution: 1.1967506484273762, lr: 0.0008394998505929175\n",
      ">>> cluster: 11, modify resolution: 1.196762655790875, lr: 1.2007363498755846e-05\n",
      ">>> cluster: 11, modify resolution: 1.1967636098279408, lr: 9.540370657689575e-07\n",
      ">>> cluster: 11, modify resolution: 1.1967641140877618, lr: 5.042598209761748e-07\n",
      ">>> cluster: 11, modify resolution: 1.2067641140877619, lr: 0.01\n",
      ">>> cluster: 11, modify resolution: 1.210651851989296, lr: 0.003887737901534081\n",
      ">>> cluster: 11, modify resolution: 1.211221950067861, lr: 0.0005700980785649978\n",
      ">>> cluster: 11, modify resolution: 1.211353701228006, lr: 0.00013175116014501356\n",
      ">>> cluster: 11, modify resolution: 1.211392619847737, lr: 3.891861973096689e-05\n",
      ">>> cluster: 11, modify resolution: 1.221392619847737, lr: 0.01\n",
      ">>> cluster: 11, modify resolution: 1.224547824555596, lr: 0.0031552047078592382\n",
      ">>> cluster: 11, modify resolution: 1.226955750259852, lr: 0.0024079257042559908\n",
      ">>> cluster: 11, modify resolution: 1.2287427999720189, lr: 0.0017870497121668268\n",
      ">>> cluster: 11, modify resolution: 1.2289690833205689, lr: 0.00022628334855006633\n",
      ">>> cluster: 11, modify resolution: 1.2389690833205689, lr: 0.01\n",
      ">>> cluster: 13, modify resolution: 1.2455484181804228, lr: 0.006579334859853929\n",
      ">>> cluster: 13, modify resolution: 1.2472565386413967, lr: 0.0017081204609739537\n",
      ">>> cluster: 13, modify resolution: 1.247263522657453, lr: 6.984016056334809e-06\n",
      ">>> cluster: 13, modify resolution: 1.247267499810858, lr: 3.977153404815057e-06\n",
      ">>> cluster: 13, modify resolution: 1.257267499810858, lr: 0.01\n",
      ">>> cluster: 13, modify resolution: 1.2622692228911043, lr: 0.005001723080246315\n",
      ">>> cluster: 13, modify resolution: 1.2672388971741477, lr: 0.004969674283043379\n",
      ">>> cluster: 13, modify resolution: 1.2721550459998392, lr: 0.0049161488256914574\n",
      ">>> cluster: 13, modify resolution: 1.2752323525373574, lr: 0.003077306537518357\n",
      ">>> cluster: 13, modify resolution: 1.2852323525373575, lr: 0.01\n",
      ">>> cluster: 13, modify resolution: 1.2916275387495206, lr: 0.006395186212163138\n",
      ">>> cluster: 13, modify resolution: 1.2969881204295346, lr: 0.005360581680014039\n",
      ">>> cluster: 13, modify resolution: 1.2974242323957692, lr: 0.0004361119662346023\n",
      ">>> cluster: 13, modify resolution: 1.2975164057852422, lr: 9.21733894729685e-05\n",
      ">>> cluster: 13, modify resolution: 1.3075164057852422, lr: 0.01\n",
      ">>> cluster: 13, modify resolution: 1.3114393593744902, lr: 0.003922953589248098\n",
      ">>> cluster: 13, modify resolution: 1.3143784127707834, lr: 0.0029390533962932773\n",
      ">>> cluster: 13, modify resolution: 1.3148348796126088, lr: 0.0004564668418253688\n",
      ">>> cluster: 13, modify resolution: 1.3152350795653072, lr: 0.000400199952698333\n",
      ">>> cluster: 13, modify resolution: 1.3252350795653072, lr: 0.01\n",
      ">>> cluster: 14, modify resolution: 1.333552045151738, lr: 0.008316965586430813\n",
      ">>> cluster: 14, modify resolution: 1.3362669163379985, lr: 0.0027148711862606473\n",
      ">>> cluster: 13, modify resolution: 1.3373610095959372, lr: 0.0010940932579385962\n",
      ">>> cluster: 13, modify resolution: 1.337704370893673, lr: 0.0003433612977357488\n",
      ">>> cluster: 13, modify resolution: 1.347704370893673, lr: 0.01\n",
      ">>> cluster: 13, modify resolution: 1.349642324948394, lr: 0.0019379540547209962\n",
      ">>> cluster: 13, modify resolution: 1.351415030676216, lr: 0.0017727057278221635\n",
      ">>> cluster: 13, modify resolution: 1.3528747464126243, lr: 0.0014597157364082604\n",
      ">>> cluster: 14, modify resolution: 1.3533481168948138, lr: 0.00047337048218951746\n",
      ">>> cluster: 14, modify resolution: 1.3633481168948138, lr: 0.01\n",
      ">>> cluster: 14, modify resolution: 1.3722079974611365, lr: 0.008859880566322718\n",
      ">>> cluster: 14, modify resolution: 1.3758017692938442, lr: 0.0035937718327077772\n",
      ">>> cluster: 14, modify resolution: 1.3790711852278827, lr: 0.003269415934038428\n",
      ">>> cluster: 14, modify resolution: 1.381091657293223, lr: 0.0020204720653403496\n",
      ">>> cluster: 13, modify resolution: 1.391091657293223, lr: 0.01\n",
      ">>> cluster: 13, modify resolution: 1.3931266965333904, lr: 0.002035039240167279\n",
      ">>> cluster: 13, modify resolution: 1.395103652650142, lr: 0.0019769561167515297\n",
      ">>> cluster: 13, modify resolution: 1.3968892673359619, lr: 0.0017856146858199438\n",
      ">>> cluster: 13, modify resolution: 1.3982655889479028, lr: 0.0013763216119408205\n",
      ">>> cluster: 13, modify resolution: 1.4082655889479028, lr: 0.01\n",
      ">>> cluster: 14, modify resolution: 1.411547230380876, lr: 0.003281641432973177\n",
      ">>> cluster: 13, modify resolution: 1.4122002858143254, lr: 0.0006530554334494415\n",
      ">>> cluster: 13, modify resolution: 1.4124880511772326, lr: 0.00028776536290725426\n",
      ">>> cluster: 13, modify resolution: 1.4127405323058713, lr: 0.00025248112863856566\n",
      ">>> cluster: 13, modify resolution: 1.4227405323058713, lr: 0.01\n",
      ">>> cluster: 14, modify resolution: 1.432266301626153, lr: 0.00952576932028166\n",
      ">>> cluster: 14, modify resolution: 1.4363533936260537, lr: 0.004087091999900781\n",
      ">>> cluster: 14, modify resolution: 1.4370607997122555, lr: 0.0007074060862017999\n",
      ">>> cluster: 14, modify resolution: 1.43739960804616, lr: 0.0003388083339043838\n",
      ">>> cluster: 14, modify resolution: 1.44739960804616, lr: 0.01\n",
      ">>> cluster: 14, modify resolution: 1.454415113272531, lr: 0.00701550522637085\n",
      ">>> cluster: 15, modify resolution: 1.4552175238387417, lr: 0.0008024105662108462\n",
      ">>> cluster: 15, modify resolution: 1.4556785551795777, lr: 0.00046103134083586055\n",
      ">>> cluster: 15, modify resolution: 1.4558868830236058, lr: 0.00020832784402805764\n",
      ">>> cluster: 15, modify resolution: 1.4658868830236058, lr: 0.01\n",
      ">>> cluster: 15, modify resolution: 1.467468546479218, lr: 0.00158166345561224\n",
      ">>> cluster: 15, modify resolution: 1.4685373116736034, lr: 0.0010687651943853413\n",
      ">>> cluster: 15, modify resolution: 1.4694500155399914, lr: 0.0009127038663880328\n",
      ">>> cluster: 15, modify resolution: 1.4699417983306697, lr: 0.0004917827906781882\n",
      ">>> cluster: 15, modify resolution: 1.4799417983306697, lr: 0.01\n",
      ">>> cluster: 15, modify resolution: 1.484466209273406, lr: 0.004524410942736198\n",
      ">>> cluster: 14, modify resolution: 1.487407680834048, lr: 0.002941471560642051\n",
      ">>> cluster: 14, modify resolution: 1.4875746426063945, lr: 0.00016696177234643095\n",
      ">>> cluster: 14, modify resolution: 1.4877241913775512, lr: 0.00014954877115665784\n",
      ">>> cluster: 14, modify resolution: 1.4977241913775512, lr: 0.01\n",
      ">>> cluster: 15, modify resolution: 1.5060131863316548, lr: 0.008288994954103585\n",
      ">>> cluster: 15, modify resolution: 1.5075461724048018, lr: 0.0015329860731469862\n",
      ">>> cluster: 15, modify resolution: 1.5079830032218444, lr: 0.0004368308170426542\n",
      ">>> cluster: 15, modify resolution: 1.508306497441734, lr: 0.00032349421988962\n",
      ">>> cluster: 15, modify resolution: 1.518306497441734, lr: 0.01\n",
      ">>> cluster: 15, modify resolution: 1.521678765034119, lr: 0.0033722675923851743\n",
      ">>> cluster: 15, modify resolution: 1.5244069921187122, lr: 0.002728227084593192\n",
      ">>> cluster: 15, modify resolution: 1.5259490375744336, lr: 0.0015420454557212443\n",
      ">>> cluster: 15, modify resolution: 1.5266637344927207, lr: 0.0007146969182872209\n",
      ">>> cluster: 15, modify resolution: 1.5366637344927208, lr: 0.01\n",
      ">>> cluster: 15, modify resolution: 1.541578944094168, lr: 0.004915209601447208\n",
      ">>> cluster: 15, modify resolution: 1.5427736214552843, lr: 0.0011946773611161714\n",
      ">>> cluster: 15, modify resolution: 1.5428263318180984, lr: 5.271036281400451e-05\n",
      ">>> cluster: 15, modify resolution: 1.5428355626072858, lr: 9.230789187552039e-06\n",
      ">>> cluster: 15, modify resolution: 1.5528355626072858, lr: 0.01\n",
      ">>> cluster: 15, modify resolution: 1.5610316594099887, lr: 0.008196096802702942\n",
      ">>> cluster: 15, modify resolution: 1.5616346114780628, lr: 0.0006029520680741488\n",
      ">>> cluster: 15, modify resolution: 1.561722696602577, lr: 8.808512451426261e-05\n",
      ">>> cluster: 15, modify resolution: 1.5617595032463416, lr: 3.6806643764661485e-05\n",
      ">>> cluster: 15, modify resolution: 1.5717595032463416, lr: 0.01\n",
      ">>> cluster: 15, modify resolution: 1.5735258048354366, lr: 0.0017663015890950317\n",
      ">>> cluster: 15, modify resolution: 1.5739162880954365, lr: 0.0003904832599998335\n",
      ">>> cluster: 15, modify resolution: 1.5742713715151961, lr: 0.00035508341975971035\n",
      ">>> cluster: 15, modify resolution: 1.5743490533743343, lr: 7.768185913824867e-05\n",
      ">>> cluster: 15, modify resolution: 1.5843490533743343, lr: 0.01\n",
      ">>> cluster: 15, modify resolution: 1.586884235720218, lr: 0.0025351823458836663\n",
      ">>> cluster: 15, modify resolution: 1.5882536013304844, lr: 0.0013693656102664595\n",
      ">>> cluster: 15, modify resolution: 1.5894975141809369, lr: 0.0012439128504523854\n",
      ">>> cluster: 15, modify resolution: 1.5901769500986438, lr: 0.000679435917706852\n",
      ">>> cluster: 15, modify resolution: 1.6001769500986438, lr: 0.01\n",
      ">>> cluster: 15, modify resolution: 1.6093744209513847, lr: 0.009197470852740931\n",
      ">>> cluster: 16, modify resolution: 1.6156299047519171, lr: 0.006255483800532405\n",
      ">>> cluster: 16, modify resolution: 1.621669245258069, lr: 0.006039340506151775\n",
      ">>> cluster: 15, modify resolution: 1.6225662338525788, lr: 0.0008969885945098473\n",
      ">>> cluster: 15, modify resolution: 1.6325662338525788, lr: 0.01\n",
      ">>> cluster: 16, modify resolution: 1.6334789009665225, lr: 0.0009126671139437681\n",
      ">>> cluster: 16, modify resolution: 1.6336887315745818, lr: 0.00020983060805939818\n",
      ">>> cluster: 16, modify resolution: 1.633698254567207, lr: 9.522992625139416e-06\n",
      ">>> cluster: 16, modify resolution: 1.633699226910788, lr: 9.723435810725344e-07\n",
      ">>> cluster: 16, modify resolution: 1.643699226910788, lr: 0.01\n",
      ">>> cluster: 16, modify resolution: 1.6502700918377537, lr: 0.006570864926965847\n",
      ">>> cluster: 16, modify resolution: 1.652579978070343, lr: 0.002309886232589177\n",
      ">>> cluster: 16, modify resolution: 1.6547251280872546, lr: 0.0021451500169115474\n",
      ">>> cluster: 16, modify resolution: 1.6567181955316093, lr: 0.0019930674443547126\n",
      ">>> cluster: 16, modify resolution: 1.6667181955316093, lr: 0.01\n",
      ">>> cluster: 16, modify resolution: 1.668487247869509, lr: 0.001769052337899638\n",
      ">>> cluster: 16, modify resolution: 1.668910386072653, lr: 0.0004231382031441351\n",
      ">>> cluster: 16, modify resolution: 1.6692958512445244, lr: 0.00038546517187138153\n",
      ">>> cluster: 16, modify resolution: 1.6693764326714984, lr: 8.058142697408858e-05\n",
      ">>> cluster: 16, modify resolution: 1.6793764326714984, lr: 0.01\n",
      ">>> cluster: 16, modify resolution: 1.680919386507273, lr: 0.0015429538357744188\n",
      ">>> cluster: 17, modify resolution: 1.6821756113886448, lr: 0.0012562248813717974\n",
      ">>> cluster: 17, modify resolution: 1.6829832658116985, lr: 0.000807654423053825\n",
      ">>> cluster: 17, modify resolution: 1.683693868576847, lr: 0.000710602765148549\n",
      ">>> cluster: 17, modify resolution: 1.693693868576847, lr: 0.01\n",
      ">>> cluster: 17, modify resolution: 1.7023013831706366, lr: 0.008607514593789669\n",
      ">>> cluster: 17, modify resolution: 1.7042496421875928, lr: 0.0019482590169561417\n",
      ">>> cluster: 17, modify resolution: 1.705197262020959, lr: 0.0009476198333662701\n",
      ">>> cluster: 17, modify resolution: 1.7056020999666504, lr: 0.0004048379456913373\n",
      ">>> cluster: 17, modify resolution: 1.7156020999666504, lr: 0.01\n",
      ">>> cluster: 17, modify resolution: 1.715702103118962, lr: 0.00010000315231179502\n",
      ">>> cluster: 17, modify resolution: 1.7157649059030229, lr: 6.280278406081406e-05\n",
      ">>> cluster: 17, modify resolution: 1.7158019923640486, lr: 3.7086461025774845e-05\n",
      ">>> cluster: 17, modify resolution: 1.7158243586410837, lr: 2.2366277035179203e-05\n",
      ">>> cluster: 17, modify resolution: 1.7258243586410837, lr: 0.01\n",
      ">>> cluster: 17, modify resolution: 1.7274813363959136, lr: 0.0016569777548298614\n",
      ">>> cluster: 17, modify resolution: 1.7286489943682495, lr: 0.001167657972335828\n",
      ">>> cluster: 17, modify resolution: 1.7287393263093105, lr: 9.033194106105417e-05\n",
      ">>> cluster: 17, modify resolution: 1.728761839528982, lr: 2.2513219671696e-05\n",
      ">>> cluster: 17, modify resolution: 1.7387618395289821, lr: 0.01\n",
      ">>> cluster: 17, modify resolution: 1.7467150882081277, lr: 0.007953248679145689\n",
      ">>> cluster: 17, modify resolution: 1.7544545603355264, lr: 0.007739472127398645\n",
      ">>> cluster: 17, modify resolution: 1.756331650071395, lr: 0.0018770897358686167\n",
      ">>> cluster: 17, modify resolution: 1.7573011627399344, lr: 0.000969512668539299\n",
      ">>> cluster: 17, modify resolution: 1.7673011627399344, lr: 0.01\n",
      ">>> cluster: 17, modify resolution: 1.7715402852606235, lr: 0.004239122520688986\n",
      ">>> cluster: 17, modify resolution: 1.774142404232294, lr: 0.002602118971670537\n",
      ">>> cluster: 17, modify resolution: 1.7754255009578697, lr: 0.0012830967255756426\n",
      ">>> cluster: 17, modify resolution: 1.7766277795354803, lr: 0.0012022785776105841\n",
      ">>> cluster: 17, modify resolution: 1.7866277795354804, lr: 0.01\n",
      ">>> cluster: 17, modify resolution: 1.7896626546642362, lr: 0.0030348751287558972\n",
      ">>> cluster: 17, modify resolution: 1.7925018542688187, lr: 0.0028391996045825\n",
      ">>> cluster: 17, modify resolution: 1.7934474061667927, lr: 0.0009455518979738812\n",
      ">>> cluster: 17, modify resolution: 1.7937689596290736, lr: 0.00032155346228088976\n",
      ">>> cluster: 17, modify resolution: 1.8037689596290736, lr: 0.01\n",
      ">>> cluster: 17, modify resolution: 1.8078886045838727, lr: 0.004119644954799214\n",
      ">>> cluster: 17, modify resolution: 1.8089674973434906, lr: 0.0010788927596178132\n",
      ">>> cluster: 17, modify resolution: 1.8097026178645534, lr: 0.0007351205210628652\n",
      ">>> cluster: 17, modify resolution: 1.810221547040849, lr: 0.0005189291762954668\n",
      ">>> cluster: 17, modify resolution: 1.820221547040849, lr: 0.01\n",
      ">>> cluster: 18, modify resolution: 1.8272242694434866, lr: 0.007002722402637646\n",
      ">>> cluster: 18, modify resolution: 1.8288374538169871, lr: 0.0016131843735006494\n",
      ">>> cluster: 18, modify resolution: 1.8290006843274835, lr: 0.00016323051049644605\n",
      ">>> cluster: 18, modify resolution: 1.829080733032861, lr: 8.004870537726143e-05\n",
      ">>> cluster: 18, modify resolution: 1.839080733032861, lr: 0.01\n",
      ">>> cluster: 18, modify resolution: 1.8392076575526504, lr: 0.00012692451978957186\n",
      ">>> cluster: 18, modify resolution: 1.8392700345913837, lr: 6.237703873326917e-05\n",
      ">>> cluster: 18, modify resolution: 1.8393165331359207, lr: 4.649854453688754e-05\n",
      ">>> cluster: 18, modify resolution: 1.839344425913383, lr: 2.7892777462295667e-05\n",
      ">>> cluster: 18, modify resolution: 1.849344425913383, lr: 0.01\n",
      ">>> cluster: 18, modify resolution: 1.8546907567615765, lr: 0.005346330848193352\n",
      ">>> cluster: 18, modify resolution: 1.8592754319330764, lr: 0.00458467517149999\n",
      ">>> cluster: 18, modify resolution: 1.8608964490846471, lr: 0.0016210171515708023\n",
      ">>> cluster: 18, modify resolution: 1.861508736131874, lr: 0.0006122870472269439\n",
      ">>> cluster: 18, modify resolution: 1.871508736131874, lr: 0.01\n",
      ">>> cluster: 17, modify resolution: 1.8806480240802976, lr: 0.009139287948423483\n",
      ">>> cluster: 18, modify resolution: 1.8832570014253198, lr: 0.002608977345022153\n",
      ">>> cluster: 18, modify resolution: 1.8833985557341462, lr: 0.00014155430882641332\n",
      ">>> cluster: 18, modify resolution: 1.883521039810251, lr: 0.00012248407610483564\n",
      ">>> cluster: 18, modify resolution: 1.893521039810251, lr: 0.01\n",
      ">>> cluster: 17, modify resolution: 1.8943301517856999, lr: 0.000809111975448642\n",
      ">>> cluster: 17, modify resolution: 1.8950947153062736, lr: 0.0007645635205736562\n",
      ">>> cluster: 17, modify resolution: 1.8951356729742426, lr: 4.095766796888425e-05\n",
      ">>> cluster: 17, modify resolution: 1.8951654755040965, lr: 2.980252985393123e-05\n",
      ">>> cluster: 17, modify resolution: 1.9051654755040965, lr: 0.01\n",
      ">>> cluster: 17, modify resolution: 1.9077027407014788, lr: 0.0025372651973822567\n",
      ">>> cluster: 17, modify resolution: 1.9077208933994072, lr: 1.8152697928448357e-05\n",
      ">>> cluster: 17, modify resolution: 1.9077265394909426, lr: 5.64609153544777e-06\n",
      ">>> cluster: 17, modify resolution: 1.9077273960910732, lr: 8.566001305102798e-07\n",
      ">>> cluster: 17, modify resolution: 1.9177273960910732, lr: 0.01\n",
      ">>> cluster: 17, modify resolution: 1.9227811271774409, lr: 0.00505373108636769\n",
      ">>> cluster: 17, modify resolution: 1.926883687502098, lr: 0.004102560324657148\n",
      ">>> cluster: 17, modify resolution: 1.9298314122708056, lr: 0.002947724768707465\n",
      ">>> cluster: 17, modify resolution: 1.9309299685246344, lr: 0.0010985562538289228\n",
      ">>> cluster: 17, modify resolution: 1.9409299685246344, lr: 0.01\n",
      ">>> cluster: 17, modify resolution: 1.9494455380679943, lr: 0.00851556954335981\n",
      ">>> cluster: 18, modify resolution: 1.9534888987723589, lr: 0.004043360704364644\n",
      ">>> cluster: 18, modify resolution: 1.9565634021115172, lr: 0.0030745033391584736\n",
      ">>> cluster: 18, modify resolution: 1.9589383615531515, lr: 0.002374959441634197\n",
      ">>> cluster: 18, modify resolution: 1.9689383615531515, lr: 0.01\n",
      ">>> cluster: 18, modify resolution: 1.9715417114284843, lr: 0.002603349875332769\n",
      ">>> cluster: 18, modify resolution: 1.9725492904712434, lr: 0.001007579042759018\n",
      ">>> cluster: 18, modify resolution: 1.9732059854327229, lr: 0.0006566949614794294\n",
      ">>> cluster: 18, modify resolution: 1.973835745174339, lr: 0.000629759741616119\n",
      ">>> cluster: 18, modify resolution: 1.983835745174339, lr: 0.01\n",
      ">>> cluster: 18, modify resolution: 1.993407421991705, lr: 0.009571676817366058\n",
      ">>> cluster: 18, modify resolution: 1.9969841504681252, lr: 0.003576728476420169\n",
      ">>> cluster: 18, modify resolution: 1.9997926265413246, lr: 0.0028084760731993705\n",
      ">>> cluster: 18, modify resolution: 2.002529705963069, lr: 0.002737079421744102\n",
      ">>> cluster: 18, modify resolution: 2.0125297059630687, lr: 0.01\n",
      ">>> cluster: 17, modify resolution: 2.021154059288735, lr: 0.008624353325666223\n",
      ">>> cluster: 17, modify resolution: 2.0218550072855326, lr: 0.0007009479967976792\n",
      ">>> cluster: 17, modify resolution: 2.022038636051724, lr: 0.00018362876619126053\n",
      ">>> cluster: 17, modify resolution: 2.0220416084198045, lr: 2.972368080668681e-06\n",
      ">>> cluster: 17, modify resolution: 2.0320416084198043, lr: 0.01\n",
      ">>> cluster: 17, modify resolution: 2.040946286035923, lr: 0.008904677616118498\n",
      ">>> cluster: 17, modify resolution: 2.0494531192149896, lr: 0.008506833179066637\n",
      ">>> cluster: 17, modify resolution: 2.0557894847527436, lr: 0.006336365537753887\n",
      ">>> cluster: 17, modify resolution: 2.056360260182065, lr: 0.0005707754293215509\n",
      ">>> cluster: 17, modify resolution: 2.0663602601820648, lr: 0.01\n",
      ">>> cluster: 18, modify resolution: 2.0675023097570864, lr: 0.001142049575021491\n",
      ">>> cluster: 18, modify resolution: 2.068440398423789, lr: 0.0009380886667025469\n",
      ">>> cluster: 18, modify resolution: 2.0691024758078544, lr: 0.0006620773840656824\n",
      ">>> cluster: 18, modify resolution: 2.0693932716919345, lr: 0.000290795884079964\n",
      ">>> cluster: 18, modify resolution: 2.0793932716919343, lr: 0.01\n",
      ">>> cluster: 18, modify resolution: 2.0842427268947255, lr: 0.004849455202791123\n",
      ">>> cluster: 18, modify resolution: 2.088223950587279, lr: 0.003981223692553335\n",
      ">>> cluster: 17, modify resolution: 2.0921443789019283, lr: 0.003920428314649596\n",
      ">>> cluster: 17, modify resolution: 2.0938837330739952, lr: 0.0017393541720667725\n",
      ">>> cluster: 17, modify resolution: 2.103883733073995, lr: 0.01\n",
      ">>> cluster: 17, modify resolution: 2.1072834743504543, lr: 0.003399741276459419\n",
      ">>> cluster: 17, modify resolution: 2.1083208614543363, lr: 0.00103738710388187\n",
      ">>> cluster: 17, modify resolution: 2.108472073685132, lr: 0.00015121223079599472\n",
      ">>> cluster: 17, modify resolution: 2.108520545297678, lr: 4.847161254615484e-05\n",
      ">>> cluster: 17, modify resolution: 2.118520545297678, lr: 0.01\n",
      ">>> cluster: 18, modify resolution: 2.119294562493854, lr: 0.0007740171961761466\n",
      ">>> cluster: 18, modify resolution: 2.119751024582356, lr: 0.0004564620885018437\n",
      ">>> cluster: 18, modify resolution: 2.1197886391592684, lr: 3.761457691242894e-05\n",
      ">>> cluster: 18, modify resolution: 2.119822703652022, lr: 3.406449275373851e-05\n",
      ">>> cluster: 18, modify resolution: 2.129822703652022, lr: 0.01\n",
      ">>> cluster: 18, modify resolution: 2.1381872014188716, lr: 0.008364497766849653\n",
      ">>> cluster: 18, modify resolution: 2.146223060697827, lr: 0.008035859278955755\n",
      ">>> cluster: 18, modify resolution: 2.147582918609866, lr: 0.001359857912038442\n",
      ">>> cluster: 18, modify resolution: 2.1486156704188835, lr: 0.0010327518090174892\n",
      ">>> cluster: 18, modify resolution: 2.1586156704188832, lr: 0.01\n",
      ">>> cluster: 18, modify resolution: 2.1657524724001416, lr: 0.007136801981258413\n",
      ">>> cluster: 19, modify resolution: 2.1720388313798216, lr: 0.006286358979680108\n",
      ">>> resolution: 2.1720388313798216, pre_cluster: 20, cluster: 20\n",
      ">>> louvain: 41.5237\n"
     ]
    }
   ],
   "source": [
    "adata, n_cluster = get_data(dataset_func=get_human_breast_cancer_data)\n",
    "train(adata, n_cluster)\n",
    "ari = evaluate(adata, n_cluster, pred_list=['louvain'])[0]\n",
    "adata.obs['louvain'].to_csv('result/predict/Louvain/human_breast_cancer.txt', index=True, sep='\\t')\n",
    "result.append(ari)"
   ]
  },
  {
   "attachments": {},
   "cell_type": "markdown",
   "metadata": {},
   "source": [
    "# DLPFC"
   ]
  },
  {
   "cell_type": "code",
   "execution_count": 3,
   "metadata": {},
   "outputs": [
    {
     "name": "stderr",
     "output_type": "stream",
     "text": [
      "/mnt/5280e/twang/.conda/envs/torch+pyg/lib/python3.8/site-packages/anndata/_core/anndata.py:1830: UserWarning: Variable names are not unique. To make them unique, call `.var_names_make_unique`.\n",
      "  utils.warn_names_duplicates(\"var\")\n"
     ]
    },
    {
     "name": "stdout",
     "output_type": "stream",
     "text": [
      ">>> INFO: dataset name: dlpfc, slice id: 151507, size: (4226, 33538), cluster: 7.(2.803s)\n"
     ]
    },
    {
     "name": "stderr",
     "output_type": "stream",
     "text": [
      "/mnt/5280e/twang/.conda/envs/torch+pyg/lib/python3.8/site-packages/scanpy/preprocessing/_highly_variable_genes.py:62: UserWarning: `flavor='seurat_v3'` expects raw count data, but non-integers were found.\n",
      "  warnings.warn(\n"
     ]
    },
    {
     "name": "stdout",
     "output_type": "stream",
     "text": [
      "WARNING: adata.X seems to be already log-transformed.\n",
      ">>> cluster: 6, modify resolution: 1.01, lr: 0.01\n",
      ">>> cluster: 6, modify resolution: 1.0161401807413937, lr: 0.006140180741393743\n",
      ">>> resolution: 1.0161401807413937, pre_cluster: 7, cluster: 7\n",
      ">>> louvain: 33.8409\n"
     ]
    },
    {
     "name": "stderr",
     "output_type": "stream",
     "text": [
      "/mnt/5280e/twang/.conda/envs/torch+pyg/lib/python3.8/site-packages/anndata/_core/anndata.py:1830: UserWarning: Variable names are not unique. To make them unique, call `.var_names_make_unique`.\n",
      "  utils.warn_names_duplicates(\"var\")\n"
     ]
    },
    {
     "name": "stdout",
     "output_type": "stream",
     "text": [
      ">>> INFO: dataset name: dlpfc, slice id: 151508, size: (4384, 33538), cluster: 7.(2.437s)\n"
     ]
    },
    {
     "name": "stderr",
     "output_type": "stream",
     "text": [
      "/mnt/5280e/twang/.conda/envs/torch+pyg/lib/python3.8/site-packages/scanpy/preprocessing/_highly_variable_genes.py:62: UserWarning: `flavor='seurat_v3'` expects raw count data, but non-integers were found.\n",
      "  warnings.warn(\n"
     ]
    },
    {
     "name": "stdout",
     "output_type": "stream",
     "text": [
      "WARNING: adata.X seems to be already log-transformed.\n",
      ">>> cluster: 5, modify resolution: 1.01, lr: 0.01\n",
      ">>> cluster: 5, modify resolution: 1.0161401807413937, lr: 0.006140180741393743\n",
      ">>> cluster: 5, modify resolution: 1.0211227910724376, lr: 0.00498261033104405\n",
      ">>> cluster: 5, modify resolution: 1.025969966923063, lr: 0.00484717585062545\n",
      ">>> cluster: 5, modify resolution: 1.028465087681787, lr: 0.00249512075872379\n",
      ">>> cluster: 5, modify resolution: 1.038465087681787, lr: 0.01\n",
      ">>> cluster: 5, modify resolution: 1.0465805935261996, lr: 0.008115505844412577\n",
      ">>> cluster: 5, modify resolution: 1.0504644655416573, lr: 0.0038838720154577996\n",
      ">>> cluster: 6, modify resolution: 1.0536099904890086, lr: 0.0031455249473513035\n",
      ">>> cluster: 6, modify resolution: 1.0552477231834674, lr: 0.0016377326944587015\n",
      ">>> cluster: 6, modify resolution: 1.0652477231834674, lr: 0.01\n",
      ">>> cluster: 6, modify resolution: 1.075049821225948, lr: 0.009802098042480653\n",
      ">>> cluster: 6, modify resolution: 1.0824477292609986, lr: 0.0073979080350505605\n",
      ">>> cluster: 6, modify resolution: 1.0862496868373945, lr: 0.003801957576395912\n",
      ">>> cluster: 6, modify resolution: 1.0897005320725746, lr: 0.0034508452351800977\n",
      ">>> cluster: 6, modify resolution: 1.0997005320725746, lr: 0.01\n",
      ">>> cluster: 6, modify resolution: 1.1096361173537792, lr: 0.009935585281204569\n",
      ">>> cluster: 6, modify resolution: 1.1102613032767188, lr: 0.0006251859229395438\n",
      ">>> cluster: 6, modify resolution: 1.1107510340780415, lr: 0.0004897308013226888\n",
      ">>> cluster: 6, modify resolution: 1.1108526215444112, lr: 0.00010158746636973588\n",
      ">>> cluster: 6, modify resolution: 1.1208526215444112, lr: 0.01\n",
      ">>> cluster: 6, modify resolution: 1.1253269484065214, lr: 0.004474326862110033\n",
      ">>> cluster: 6, modify resolution: 1.1264228669270622, lr: 0.0010959185205407754\n",
      ">>> cluster: 6, modify resolution: 1.1271607149000438, lr: 0.0007378479729815955\n",
      ">>> cluster: 6, modify resolution: 1.1278730657331029, lr: 0.0007123508330589977\n",
      ">>> cluster: 6, modify resolution: 1.1378730657331029, lr: 0.01\n",
      ">>> resolution: 1.1378730657331029, pre_cluster: 7, cluster: 7\n",
      ">>> louvain: 31.0296\n"
     ]
    },
    {
     "name": "stderr",
     "output_type": "stream",
     "text": [
      "/mnt/5280e/twang/.conda/envs/torch+pyg/lib/python3.8/site-packages/anndata/_core/anndata.py:1830: UserWarning: Variable names are not unique. To make them unique, call `.var_names_make_unique`.\n",
      "  utils.warn_names_duplicates(\"var\")\n"
     ]
    },
    {
     "name": "stdout",
     "output_type": "stream",
     "text": [
      ">>> INFO: dataset name: dlpfc, slice id: 151509, size: (4789, 33538), cluster: 7.(3.103s)\n"
     ]
    },
    {
     "name": "stderr",
     "output_type": "stream",
     "text": [
      "/mnt/5280e/twang/.conda/envs/torch+pyg/lib/python3.8/site-packages/scanpy/preprocessing/_highly_variable_genes.py:62: UserWarning: `flavor='seurat_v3'` expects raw count data, but non-integers were found.\n",
      "  warnings.warn(\n"
     ]
    },
    {
     "name": "stdout",
     "output_type": "stream",
     "text": [
      "WARNING: adata.X seems to be already log-transformed.\n",
      ">>> cluster: 6, modify resolution: 1.01, lr: 0.01\n",
      ">>> cluster: 6, modify resolution: 1.0161401807413937, lr: 0.006140180741393743\n",
      ">>> cluster: 6, modify resolution: 1.0211227910724376, lr: 0.00498261033104405\n",
      ">>> cluster: 6, modify resolution: 1.025969966923063, lr: 0.00484717585062545\n",
      ">>> resolution: 1.025969966923063, pre_cluster: 7, cluster: 7\n",
      ">>> louvain: 36.2197\n"
     ]
    },
    {
     "name": "stderr",
     "output_type": "stream",
     "text": [
      "/mnt/5280e/twang/.conda/envs/torch+pyg/lib/python3.8/site-packages/anndata/_core/anndata.py:1830: UserWarning: Variable names are not unique. To make them unique, call `.var_names_make_unique`.\n",
      "  utils.warn_names_duplicates(\"var\")\n"
     ]
    },
    {
     "name": "stdout",
     "output_type": "stream",
     "text": [
      ">>> INFO: dataset name: dlpfc, slice id: 151510, size: (4634, 33538), cluster: 7.(2.841s)\n"
     ]
    },
    {
     "name": "stderr",
     "output_type": "stream",
     "text": [
      "/mnt/5280e/twang/.conda/envs/torch+pyg/lib/python3.8/site-packages/scanpy/preprocessing/_highly_variable_genes.py:62: UserWarning: `flavor='seurat_v3'` expects raw count data, but non-integers were found.\n",
      "  warnings.warn(\n"
     ]
    },
    {
     "name": "stdout",
     "output_type": "stream",
     "text": [
      "WARNING: adata.X seems to be already log-transformed.\n",
      ">>> cluster: 5, modify resolution: 1.01, lr: 0.01\n",
      ">>> cluster: 6, modify resolution: 1.0161401807413937, lr: 0.006140180741393743\n",
      ">>> cluster: 6, modify resolution: 1.0211227910724376, lr: 0.00498261033104405\n",
      ">>> cluster: 6, modify resolution: 1.025969966923063, lr: 0.00484717585062545\n",
      ">>> cluster: 6, modify resolution: 1.028465087681787, lr: 0.00249512075872379\n",
      ">>> cluster: 6, modify resolution: 1.038465087681787, lr: 0.01\n",
      ">>> cluster: 6, modify resolution: 1.0465805935261996, lr: 0.008115505844412577\n",
      ">>> cluster: 6, modify resolution: 1.0504644655416573, lr: 0.0038838720154577996\n",
      ">>> cluster: 6, modify resolution: 1.0536099904890086, lr: 0.0031455249473513035\n",
      ">>> resolution: 1.0536099904890086, pre_cluster: 7, cluster: 7\n",
      ">>> louvain: 28.1064\n"
     ]
    },
    {
     "name": "stderr",
     "output_type": "stream",
     "text": [
      "/mnt/5280e/twang/.conda/envs/torch+pyg/lib/python3.8/site-packages/anndata/_core/anndata.py:1830: UserWarning: Variable names are not unique. To make them unique, call `.var_names_make_unique`.\n",
      "  utils.warn_names_duplicates(\"var\")\n"
     ]
    },
    {
     "name": "stdout",
     "output_type": "stream",
     "text": [
      ">>> INFO: dataset name: dlpfc, slice id: 151669, size: (3661, 33538), cluster: 5.(2.917s)\n"
     ]
    },
    {
     "name": "stderr",
     "output_type": "stream",
     "text": [
      "/mnt/5280e/twang/.conda/envs/torch+pyg/lib/python3.8/site-packages/scanpy/preprocessing/_highly_variable_genes.py:62: UserWarning: `flavor='seurat_v3'` expects raw count data, but non-integers were found.\n",
      "  warnings.warn(\n"
     ]
    },
    {
     "name": "stdout",
     "output_type": "stream",
     "text": [
      "WARNING: adata.X seems to be already log-transformed.\n",
      ">>> cluster: 6, modify resolution: 0.99, lr: 0.01\n",
      ">>> cluster: 6, modify resolution: 0.9838598192586062, lr: 0.006140180741393743\n",
      ">>> cluster: 7, modify resolution: 0.9788772089275621, lr: 0.00498261033104405\n",
      ">>> cluster: 7, modify resolution: 0.9740300330769367, lr: 0.00484717585062545\n",
      ">>> cluster: 7, modify resolution: 0.9715349123182129, lr: 0.00249512075872379\n",
      ">>> cluster: 7, modify resolution: 0.9615349123182129, lr: 0.01\n",
      ">>> cluster: 7, modify resolution: 0.9534194064738003, lr: 0.008115505844412577\n",
      ">>> cluster: 6, modify resolution: 0.9495355344583425, lr: 0.0038838720154577996\n",
      ">>> cluster: 6, modify resolution: 0.9463900095109912, lr: 0.0031455249473513035\n",
      ">>> cluster: 6, modify resolution: 0.9447522768165325, lr: 0.0016377326944587015\n",
      ">>> cluster: 6, modify resolution: 0.9347522768165325, lr: 0.01\n",
      ">>> cluster: 7, modify resolution: 0.9249501787740518, lr: 0.009802098042480653\n",
      ">>> cluster: 6, modify resolution: 0.9175522707390013, lr: 0.0073979080350505605\n",
      ">>> cluster: 6, modify resolution: 0.9137503131626054, lr: 0.003801957576395912\n",
      ">>> resolution: 0.9137503131626054, pre_cluster: 5, cluster: 5\n",
      ">>> louvain: 15.0088\n"
     ]
    },
    {
     "name": "stderr",
     "output_type": "stream",
     "text": [
      "/mnt/5280e/twang/.conda/envs/torch+pyg/lib/python3.8/site-packages/anndata/_core/anndata.py:1830: UserWarning: Variable names are not unique. To make them unique, call `.var_names_make_unique`.\n",
      "  utils.warn_names_duplicates(\"var\")\n"
     ]
    },
    {
     "name": "stdout",
     "output_type": "stream",
     "text": [
      ">>> INFO: dataset name: dlpfc, slice id: 151670, size: (3498, 33538), cluster: 5.(2.685s)\n"
     ]
    },
    {
     "name": "stderr",
     "output_type": "stream",
     "text": [
      "/mnt/5280e/twang/.conda/envs/torch+pyg/lib/python3.8/site-packages/scanpy/preprocessing/_highly_variable_genes.py:62: UserWarning: `flavor='seurat_v3'` expects raw count data, but non-integers were found.\n",
      "  warnings.warn(\n"
     ]
    },
    {
     "name": "stdout",
     "output_type": "stream",
     "text": [
      "WARNING: adata.X seems to be already log-transformed.\n",
      ">>> cluster: 8, modify resolution: 0.99, lr: 0.01\n",
      ">>> cluster: 7, modify resolution: 0.9838598192586062, lr: 0.006140180741393743\n",
      ">>> cluster: 8, modify resolution: 0.9788772089275621, lr: 0.00498261033104405\n",
      ">>> cluster: 8, modify resolution: 0.9740300330769367, lr: 0.00484717585062545\n",
      ">>> cluster: 8, modify resolution: 0.9715349123182129, lr: 0.00249512075872379\n",
      ">>> cluster: 8, modify resolution: 0.9615349123182129, lr: 0.01\n",
      ">>> cluster: 7, modify resolution: 0.9534194064738003, lr: 0.008115505844412577\n",
      ">>> cluster: 7, modify resolution: 0.9495355344583425, lr: 0.0038838720154577996\n",
      ">>> cluster: 8, modify resolution: 0.9463900095109912, lr: 0.0031455249473513035\n",
      ">>> cluster: 7, modify resolution: 0.9447522768165325, lr: 0.0016377326944587015\n",
      ">>> cluster: 7, modify resolution: 0.9347522768165325, lr: 0.01\n",
      ">>> cluster: 8, modify resolution: 0.9249501787740518, lr: 0.009802098042480653\n",
      ">>> cluster: 6, modify resolution: 0.9175522707390013, lr: 0.0073979080350505605\n",
      ">>> cluster: 6, modify resolution: 0.9137503131626054, lr: 0.003801957576395912\n",
      ">>> cluster: 6, modify resolution: 0.9102994679274252, lr: 0.0034508452351800977\n",
      ">>> cluster: 6, modify resolution: 0.9002994679274252, lr: 0.01\n",
      ">>> cluster: 6, modify resolution: 0.8903638826462207, lr: 0.009935585281204569\n",
      ">>> cluster: 6, modify resolution: 0.8897386967232811, lr: 0.0006251859229395438\n",
      ">>> cluster: 6, modify resolution: 0.8892489659219585, lr: 0.0004897308013226888\n",
      ">>> cluster: 6, modify resolution: 0.8891473784555887, lr: 0.00010158746636973588\n",
      ">>> cluster: 6, modify resolution: 0.8791473784555887, lr: 0.01\n",
      ">>> cluster: 6, modify resolution: 0.8746730515934786, lr: 0.004474326862110033\n",
      ">>> cluster: 6, modify resolution: 0.8735771330729378, lr: 0.0010959185205407754\n",
      ">>> cluster: 6, modify resolution: 0.8728392850999562, lr: 0.0007378479729815955\n",
      ">>> cluster: 6, modify resolution: 0.8721269342668972, lr: 0.0007123508330589977\n",
      ">>> cluster: 6, modify resolution: 0.8621269342668972, lr: 0.01\n",
      ">>> cluster: 6, modify resolution: 0.8608922965170548, lr: 0.0012346377498424288\n",
      ">>> cluster: 6, modify resolution: 0.860309826464757, lr: 0.0005824700522978268\n",
      ">>> cluster: 6, modify resolution: 0.8602691732983295, lr: 4.065316642745975e-05\n",
      ">>> cluster: 6, modify resolution: 0.8602555315697623, lr: 1.3641728567215918e-05\n",
      ">>> cluster: 6, modify resolution: 0.8502555315697623, lr: 0.01\n",
      ">>> cluster: 6, modify resolution: 0.8493243536698586, lr: 0.0009311778999036846\n",
      ">>> cluster: 6, modify resolution: 0.848911757940188, lr: 0.00041259572967056694\n",
      ">>> cluster: 6, modify resolution: 0.8486996691056016, lr: 0.00021208883458641049\n",
      ">>> cluster: 6, modify resolution: 0.8486992381177212, lr: 4.309878803868341e-07\n",
      ">>> cluster: 6, modify resolution: 0.8386992381177212, lr: 0.01\n",
      ">>> cluster: 6, modify resolution: 0.8362500185963554, lr: 0.0024492195213657387\n",
      ">>> cluster: 6, modify resolution: 0.8353492228400028, lr: 0.0009007957563525895\n",
      ">>> cluster: 6, modify resolution: 0.8349953495087299, lr: 0.0003538733312729212\n",
      ">>> cluster: 6, modify resolution: 0.8349001336551206, lr: 9.521585360929348e-05\n",
      ">>> cluster: 6, modify resolution: 0.8249001336551206, lr: 0.01\n",
      ">>> cluster: 6, modify resolution: 0.8189378124487088, lr: 0.005962321206411801\n",
      ">>> cluster: 6, modify resolution: 0.8161955021461003, lr: 0.0027423103026085324\n",
      ">>> cluster: 6, modify resolution: 0.8146698973232949, lr: 0.0015256048228053482\n",
      ">>> cluster: 6, modify resolution: 0.8140888514232167, lr: 0.0005810459000781427\n",
      ">>> cluster: 6, modify resolution: 0.8040888514232167, lr: 0.01\n",
      ">>> cluster: 6, modify resolution: 0.8032493515726238, lr: 0.0008394998505929175\n",
      ">>> cluster: 6, modify resolution: 0.8032373442091251, lr: 1.2007363498755846e-05\n",
      ">>> cluster: 6, modify resolution: 0.8032363901720593, lr: 9.540370657689575e-07\n",
      ">>> cluster: 6, modify resolution: 0.8032358859122383, lr: 5.042598209761748e-07\n",
      ">>> cluster: 6, modify resolution: 0.7932358859122383, lr: 0.01\n",
      ">>> cluster: 6, modify resolution: 0.7893481480107042, lr: 0.003887737901534081\n",
      ">>> cluster: 6, modify resolution: 0.7887780499321392, lr: 0.0005700980785649978\n",
      ">>> cluster: 6, modify resolution: 0.7886462987719942, lr: 0.00013175116014501356\n",
      ">>> cluster: 6, modify resolution: 0.7886073801522633, lr: 3.891861973096689e-05\n",
      ">>> cluster: 6, modify resolution: 0.7786073801522633, lr: 0.01\n",
      ">>> cluster: 6, modify resolution: 0.775452175444404, lr: 0.0031552047078592382\n",
      ">>> cluster: 6, modify resolution: 0.7730442497401481, lr: 0.0024079257042559908\n",
      ">>> cluster: 6, modify resolution: 0.7712572000279813, lr: 0.0017870497121668268\n",
      ">>> cluster: 6, modify resolution: 0.7710309166794312, lr: 0.00022628334855006633\n",
      ">>> cluster: 6, modify resolution: 0.7610309166794312, lr: 0.01\n",
      ">>> cluster: 6, modify resolution: 0.7544515818195773, lr: 0.006579334859853929\n",
      ">>> cluster: 6, modify resolution: 0.7527434613586034, lr: 0.0017081204609739537\n",
      ">>> cluster: 6, modify resolution: 0.752736477342547, lr: 6.984016056334809e-06\n",
      ">>> cluster: 6, modify resolution: 0.7527325001891422, lr: 3.977153404815057e-06\n",
      ">>> cluster: 6, modify resolution: 0.7427325001891422, lr: 0.01\n",
      ">>> cluster: 6, modify resolution: 0.7377307771088959, lr: 0.005001723080246315\n",
      ">>> cluster: 6, modify resolution: 0.7327611028258525, lr: 0.004969674283043379\n",
      ">>> cluster: 6, modify resolution: 0.727844954000161, lr: 0.0049161488256914574\n",
      ">>> resolution: 0.727844954000161, pre_cluster: 5, cluster: 5\n",
      ">>> louvain: 5.3010\n"
     ]
    },
    {
     "name": "stderr",
     "output_type": "stream",
     "text": [
      "/mnt/5280e/twang/.conda/envs/torch+pyg/lib/python3.8/site-packages/anndata/_core/anndata.py:1830: UserWarning: Variable names are not unique. To make them unique, call `.var_names_make_unique`.\n",
      "  utils.warn_names_duplicates(\"var\")\n"
     ]
    },
    {
     "name": "stdout",
     "output_type": "stream",
     "text": [
      ">>> INFO: dataset name: dlpfc, slice id: 151671, size: (4110, 33538), cluster: 5.(3.343s)\n"
     ]
    },
    {
     "name": "stderr",
     "output_type": "stream",
     "text": [
      "/mnt/5280e/twang/.conda/envs/torch+pyg/lib/python3.8/site-packages/scanpy/preprocessing/_highly_variable_genes.py:62: UserWarning: `flavor='seurat_v3'` expects raw count data, but non-integers were found.\n",
      "  warnings.warn(\n"
     ]
    },
    {
     "name": "stdout",
     "output_type": "stream",
     "text": [
      "WARNING: adata.X seems to be already log-transformed.\n",
      ">>> cluster: 7, modify resolution: 0.99, lr: 0.01\n",
      ">>> cluster: 7, modify resolution: 0.9838598192586062, lr: 0.006140180741393743\n",
      ">>> cluster: 6, modify resolution: 0.9788772089275621, lr: 0.00498261033104405\n",
      ">>> cluster: 6, modify resolution: 0.9740300330769367, lr: 0.00484717585062545\n",
      ">>> cluster: 6, modify resolution: 0.9715349123182129, lr: 0.00249512075872379\n",
      ">>> cluster: 6, modify resolution: 0.9615349123182129, lr: 0.01\n",
      ">>> cluster: 6, modify resolution: 0.9534194064738003, lr: 0.008115505844412577\n",
      ">>> cluster: 6, modify resolution: 0.9495355344583425, lr: 0.0038838720154577996\n",
      ">>> cluster: 6, modify resolution: 0.9463900095109912, lr: 0.0031455249473513035\n",
      ">>> cluster: 6, modify resolution: 0.9447522768165325, lr: 0.0016377326944587015\n",
      ">>> cluster: 6, modify resolution: 0.9347522768165325, lr: 0.01\n",
      ">>> cluster: 6, modify resolution: 0.9249501787740518, lr: 0.009802098042480653\n",
      ">>> cluster: 6, modify resolution: 0.9175522707390013, lr: 0.0073979080350505605\n",
      ">>> cluster: 6, modify resolution: 0.9137503131626054, lr: 0.003801957576395912\n",
      ">>> cluster: 6, modify resolution: 0.9102994679274252, lr: 0.0034508452351800977\n",
      ">>> cluster: 6, modify resolution: 0.9002994679274252, lr: 0.01\n",
      ">>> cluster: 6, modify resolution: 0.8903638826462207, lr: 0.009935585281204569\n",
      ">>> cluster: 6, modify resolution: 0.8897386967232811, lr: 0.0006251859229395438\n",
      ">>> cluster: 6, modify resolution: 0.8892489659219585, lr: 0.0004897308013226888\n",
      ">>> cluster: 6, modify resolution: 0.8891473784555887, lr: 0.00010158746636973588\n",
      ">>> cluster: 6, modify resolution: 0.8791473784555887, lr: 0.01\n",
      ">>> cluster: 6, modify resolution: 0.8746730515934786, lr: 0.004474326862110033\n",
      ">>> cluster: 6, modify resolution: 0.8735771330729378, lr: 0.0010959185205407754\n",
      ">>> cluster: 6, modify resolution: 0.8728392850999562, lr: 0.0007378479729815955\n",
      ">>> cluster: 6, modify resolution: 0.8721269342668972, lr: 0.0007123508330589977\n",
      ">>> cluster: 6, modify resolution: 0.8621269342668972, lr: 0.01\n",
      ">>> cluster: 6, modify resolution: 0.8608922965170548, lr: 0.0012346377498424288\n",
      ">>> cluster: 6, modify resolution: 0.860309826464757, lr: 0.0005824700522978268\n",
      ">>> cluster: 6, modify resolution: 0.8602691732983295, lr: 4.065316642745975e-05\n",
      ">>> cluster: 6, modify resolution: 0.8602555315697623, lr: 1.3641728567215918e-05\n",
      ">>> cluster: 6, modify resolution: 0.8502555315697623, lr: 0.01\n",
      ">>> cluster: 6, modify resolution: 0.8493243536698586, lr: 0.0009311778999036846\n",
      ">>> cluster: 6, modify resolution: 0.848911757940188, lr: 0.00041259572967056694\n",
      ">>> cluster: 6, modify resolution: 0.8486996691056016, lr: 0.00021208883458641049\n",
      ">>> cluster: 6, modify resolution: 0.8486992381177212, lr: 4.309878803868341e-07\n",
      ">>> cluster: 6, modify resolution: 0.8386992381177212, lr: 0.01\n",
      ">>> resolution: 0.8386992381177212, pre_cluster: 5, cluster: 5\n",
      ">>> louvain: 29.3462\n"
     ]
    },
    {
     "name": "stderr",
     "output_type": "stream",
     "text": [
      "/mnt/5280e/twang/.conda/envs/torch+pyg/lib/python3.8/site-packages/anndata/_core/anndata.py:1830: UserWarning: Variable names are not unique. To make them unique, call `.var_names_make_unique`.\n",
      "  utils.warn_names_duplicates(\"var\")\n"
     ]
    },
    {
     "name": "stdout",
     "output_type": "stream",
     "text": [
      ">>> INFO: dataset name: dlpfc, slice id: 151672, size: (4015, 33538), cluster: 5.(3.133s)\n"
     ]
    },
    {
     "name": "stderr",
     "output_type": "stream",
     "text": [
      "/mnt/5280e/twang/.conda/envs/torch+pyg/lib/python3.8/site-packages/scanpy/preprocessing/_highly_variable_genes.py:62: UserWarning: `flavor='seurat_v3'` expects raw count data, but non-integers were found.\n",
      "  warnings.warn(\n"
     ]
    },
    {
     "name": "stdout",
     "output_type": "stream",
     "text": [
      "WARNING: adata.X seems to be already log-transformed.\n",
      ">>> cluster: 8, modify resolution: 0.99, lr: 0.01\n",
      ">>> cluster: 8, modify resolution: 0.9838598192586062, lr: 0.006140180741393743\n",
      ">>> cluster: 8, modify resolution: 0.9788772089275621, lr: 0.00498261033104405\n",
      ">>> cluster: 7, modify resolution: 0.9740300330769367, lr: 0.00484717585062545\n",
      ">>> cluster: 8, modify resolution: 0.9715349123182129, lr: 0.00249512075872379\n",
      ">>> cluster: 8, modify resolution: 0.9615349123182129, lr: 0.01\n",
      ">>> cluster: 7, modify resolution: 0.9534194064738003, lr: 0.008115505844412577\n",
      ">>> cluster: 7, modify resolution: 0.9495355344583425, lr: 0.0038838720154577996\n",
      ">>> cluster: 7, modify resolution: 0.9463900095109912, lr: 0.0031455249473513035\n",
      ">>> cluster: 7, modify resolution: 0.9447522768165325, lr: 0.0016377326944587015\n",
      ">>> cluster: 6, modify resolution: 0.9347522768165325, lr: 0.01\n",
      ">>> cluster: 8, modify resolution: 0.9249501787740518, lr: 0.009802098042480653\n",
      ">>> cluster: 8, modify resolution: 0.9175522707390013, lr: 0.0073979080350505605\n",
      ">>> cluster: 8, modify resolution: 0.9137503131626054, lr: 0.003801957576395912\n",
      ">>> cluster: 7, modify resolution: 0.9102994679274252, lr: 0.0034508452351800977\n",
      ">>> cluster: 8, modify resolution: 0.9002994679274252, lr: 0.01\n",
      ">>> cluster: 7, modify resolution: 0.8903638826462207, lr: 0.009935585281204569\n",
      ">>> cluster: 7, modify resolution: 0.8897386967232811, lr: 0.0006251859229395438\n",
      ">>> cluster: 6, modify resolution: 0.8892489659219585, lr: 0.0004897308013226888\n",
      ">>> cluster: 6, modify resolution: 0.8891473784555887, lr: 0.00010158746636973588\n",
      ">>> cluster: 6, modify resolution: 0.8791473784555887, lr: 0.01\n",
      ">>> resolution: 0.8791473784555887, pre_cluster: 5, cluster: 5\n",
      ">>> louvain: 25.9430\n"
     ]
    },
    {
     "name": "stderr",
     "output_type": "stream",
     "text": [
      "/mnt/5280e/twang/.conda/envs/torch+pyg/lib/python3.8/site-packages/anndata/_core/anndata.py:1830: UserWarning: Variable names are not unique. To make them unique, call `.var_names_make_unique`.\n",
      "  utils.warn_names_duplicates(\"var\")\n"
     ]
    },
    {
     "name": "stdout",
     "output_type": "stream",
     "text": [
      ">>> INFO: dataset name: dlpfc, slice id: 151673, size: (3639, 33538), cluster: 7.(3.467s)\n"
     ]
    },
    {
     "name": "stderr",
     "output_type": "stream",
     "text": [
      "/mnt/5280e/twang/.conda/envs/torch+pyg/lib/python3.8/site-packages/scanpy/preprocessing/_highly_variable_genes.py:62: UserWarning: `flavor='seurat_v3'` expects raw count data, but non-integers were found.\n",
      "  warnings.warn(\n"
     ]
    },
    {
     "name": "stdout",
     "output_type": "stream",
     "text": [
      "WARNING: adata.X seems to be already log-transformed.\n",
      ">>> cluster: 8, modify resolution: 0.99, lr: 0.01\n",
      ">>> cluster: 8, modify resolution: 0.9838598192586062, lr: 0.006140180741393743\n",
      ">>> cluster: 8, modify resolution: 0.9788772089275621, lr: 0.00498261033104405\n",
      ">>> cluster: 8, modify resolution: 0.9740300330769367, lr: 0.00484717585062545\n",
      ">>> cluster: 8, modify resolution: 0.9715349123182129, lr: 0.00249512075872379\n",
      ">>> cluster: 8, modify resolution: 0.9615349123182129, lr: 0.01\n",
      ">>> cluster: 8, modify resolution: 0.9534194064738003, lr: 0.008115505844412577\n",
      ">>> cluster: 8, modify resolution: 0.9495355344583425, lr: 0.0038838720154577996\n",
      ">>> cluster: 8, modify resolution: 0.9463900095109912, lr: 0.0031455249473513035\n",
      ">>> cluster: 8, modify resolution: 0.9447522768165325, lr: 0.0016377326944587015\n",
      ">>> cluster: 8, modify resolution: 0.9347522768165325, lr: 0.01\n",
      ">>> cluster: 8, modify resolution: 0.9249501787740518, lr: 0.009802098042480653\n",
      ">>> cluster: 8, modify resolution: 0.9175522707390013, lr: 0.0073979080350505605\n",
      ">>> cluster: 8, modify resolution: 0.9137503131626054, lr: 0.003801957576395912\n",
      ">>> cluster: 8, modify resolution: 0.9102994679274252, lr: 0.0034508452351800977\n",
      ">>> cluster: 8, modify resolution: 0.9002994679274252, lr: 0.01\n",
      ">>> cluster: 8, modify resolution: 0.8903638826462207, lr: 0.009935585281204569\n",
      ">>> resolution: 0.8903638826462207, pre_cluster: 7, cluster: 7\n",
      ">>> louvain: 29.1107\n"
     ]
    },
    {
     "name": "stderr",
     "output_type": "stream",
     "text": [
      "/mnt/5280e/twang/.conda/envs/torch+pyg/lib/python3.8/site-packages/anndata/_core/anndata.py:1830: UserWarning: Variable names are not unique. To make them unique, call `.var_names_make_unique`.\n",
      "  utils.warn_names_duplicates(\"var\")\n"
     ]
    },
    {
     "name": "stdout",
     "output_type": "stream",
     "text": [
      ">>> INFO: dataset name: dlpfc, slice id: 151674, size: (3673, 33538), cluster: 7.(2.068s)\n"
     ]
    },
    {
     "name": "stderr",
     "output_type": "stream",
     "text": [
      "/mnt/5280e/twang/.conda/envs/torch+pyg/lib/python3.8/site-packages/scanpy/preprocessing/_highly_variable_genes.py:62: UserWarning: `flavor='seurat_v3'` expects raw count data, but non-integers were found.\n",
      "  warnings.warn(\n"
     ]
    },
    {
     "name": "stdout",
     "output_type": "stream",
     "text": [
      "WARNING: adata.X seems to be already log-transformed.\n",
      ">>> resolution: 1.0, pre_cluster: 7, cluster: 7\n",
      ">>> louvain: 32.1147\n"
     ]
    },
    {
     "name": "stderr",
     "output_type": "stream",
     "text": [
      "/mnt/5280e/twang/.conda/envs/torch+pyg/lib/python3.8/site-packages/anndata/_core/anndata.py:1830: UserWarning: Variable names are not unique. To make them unique, call `.var_names_make_unique`.\n",
      "  utils.warn_names_duplicates(\"var\")\n"
     ]
    },
    {
     "name": "stdout",
     "output_type": "stream",
     "text": [
      ">>> INFO: dataset name: dlpfc, slice id: 151675, size: (3592, 33538), cluster: 7.(1.446s)\n"
     ]
    },
    {
     "name": "stderr",
     "output_type": "stream",
     "text": [
      "/mnt/5280e/twang/.conda/envs/torch+pyg/lib/python3.8/site-packages/scanpy/preprocessing/_highly_variable_genes.py:62: UserWarning: `flavor='seurat_v3'` expects raw count data, but non-integers were found.\n",
      "  warnings.warn(\n"
     ]
    },
    {
     "name": "stdout",
     "output_type": "stream",
     "text": [
      "WARNING: adata.X seems to be already log-transformed.\n",
      ">>> cluster: 6, modify resolution: 1.01, lr: 0.01\n",
      ">>> resolution: 1.01, pre_cluster: 7, cluster: 7\n",
      ">>> louvain: 28.3672\n"
     ]
    },
    {
     "name": "stderr",
     "output_type": "stream",
     "text": [
      "/mnt/5280e/twang/.conda/envs/torch+pyg/lib/python3.8/site-packages/anndata/_core/anndata.py:1830: UserWarning: Variable names are not unique. To make them unique, call `.var_names_make_unique`.\n",
      "  utils.warn_names_duplicates(\"var\")\n"
     ]
    },
    {
     "name": "stdout",
     "output_type": "stream",
     "text": [
      ">>> INFO: dataset name: dlpfc, slice id: 151676, size: (3460, 33538), cluster: 7.(1.411s)\n"
     ]
    },
    {
     "name": "stderr",
     "output_type": "stream",
     "text": [
      "/mnt/5280e/twang/.conda/envs/torch+pyg/lib/python3.8/site-packages/scanpy/preprocessing/_highly_variable_genes.py:62: UserWarning: `flavor='seurat_v3'` expects raw count data, but non-integers were found.\n",
      "  warnings.warn(\n"
     ]
    },
    {
     "name": "stdout",
     "output_type": "stream",
     "text": [
      "WARNING: adata.X seems to be already log-transformed.\n",
      ">>> resolution: 1.0, pre_cluster: 7, cluster: 7\n",
      ">>> louvain: 19.3527\n"
     ]
    }
   ],
   "source": [
    "for i in range(12):\n",
    "    adata, n_cluster = get_data(dataset_func=get_dlpfc_data, id=i)\n",
    "    train(adata, n_cluster)\n",
    "    ari = evaluate(adata, n_cluster, pred_list=['louvain'])[0]\n",
    "    adata.obs['louvain'].to_csv(f'result/predict/Louvain/dlpfc_{i}.txt', index=True, sep='\\t')\n",
    "    result.append(ari)"
   ]
  },
  {
   "attachments": {},
   "cell_type": "markdown",
   "metadata": {},
   "source": [
    "# 10x Visium hne"
   ]
  },
  {
   "cell_type": "code",
   "execution_count": 4,
   "metadata": {},
   "outputs": [
    {
     "name": "stderr",
     "output_type": "stream",
     "text": [
      "/mnt/5280e/twang/.conda/envs/torch+pyg/lib/python3.8/site-packages/scanpy/preprocessing/_highly_variable_genes.py:62: UserWarning: `flavor='seurat_v3'` expects raw count data, but non-integers were found.\n",
      "  warnings.warn(\n"
     ]
    },
    {
     "name": "stdout",
     "output_type": "stream",
     "text": [
      ">>> INFO: dataset name: 10x_visium_hne, size: (2688, 18078), cluster: 15.(2.320s)\n"
     ]
    },
    {
     "name": "stderr",
     "output_type": "stream",
     "text": [
      "/mnt/5280e/twang/.conda/envs/torch+pyg/lib/python3.8/site-packages/scanpy/preprocessing/_highly_variable_genes.py:62: UserWarning: `flavor='seurat_v3'` expects raw count data, but non-integers were found.\n",
      "  warnings.warn(\n"
     ]
    },
    {
     "name": "stdout",
     "output_type": "stream",
     "text": [
      "WARNING: adata.X seems to be already log-transformed.\n",
      ">>> resolution: 1.0, pre_cluster: 15, cluster: 15\n",
      ">>> louvain: 66.2204\n"
     ]
    }
   ],
   "source": [
    "adata, n_cluster = get_data(dataset_func=get_visium_hne_data, path='st_datasets/visium_hne.h5ad')\n",
    "train(adata, n_cluster)\n",
    "ari = evaluate(adata, n_cluster, pred_list=['louvain'])[0]\n",
    "adata.obs['louvain'].to_csv(f'result/predict/Louvain/visium_hne.txt', index=True, sep='\\t')\n",
    "result.append(ari)"
   ]
  },
  {
   "attachments": {},
   "cell_type": "markdown",
   "metadata": {},
   "source": [
    "# 10x Visium fluo"
   ]
  },
  {
   "cell_type": "code",
   "execution_count": 5,
   "metadata": {},
   "outputs": [
    {
     "name": "stderr",
     "output_type": "stream",
     "text": [
      "/mnt/5280e/twang/.conda/envs/torch+pyg/lib/python3.8/site-packages/scanpy/preprocessing/_highly_variable_genes.py:62: UserWarning: `flavor='seurat_v3'` expects raw count data, but non-integers were found.\n",
      "  warnings.warn(\n"
     ]
    },
    {
     "name": "stdout",
     "output_type": "stream",
     "text": [
      ">>> INFO: dataset name: 10x_visium_fluo, size: (2800, 16562), cluster: 15.(1.560s)\n"
     ]
    },
    {
     "name": "stderr",
     "output_type": "stream",
     "text": [
      "/mnt/5280e/twang/.conda/envs/torch+pyg/lib/python3.8/site-packages/scanpy/preprocessing/_highly_variable_genes.py:62: UserWarning: `flavor='seurat_v3'` expects raw count data, but non-integers were found.\n",
      "  warnings.warn(\n"
     ]
    },
    {
     "name": "stdout",
     "output_type": "stream",
     "text": [
      "WARNING: adata.X seems to be already log-transformed.\n",
      ">>> cluster: 13, modify resolution: 1.01, lr: 0.01\n",
      ">>> cluster: 13, modify resolution: 1.0141637114926743, lr: 0.004163711492674206\n",
      ">>> cluster: 13, modify resolution: 1.016497772046356, lr: 0.0023340605536817894\n",
      ">>> cluster: 13, modify resolution: 1.018664213660911, lr: 0.002166441614555142\n",
      ">>> cluster: 14, modify resolution: 1.0197104413643407, lr: 0.0010462277034297043\n",
      ">>> cluster: 14, modify resolution: 1.0297104413643408, lr: 0.01\n",
      ">>> cluster: 14, modify resolution: 1.030820093521515, lr: 0.0011096521571742392\n",
      ">>> cluster: 13, modify resolution: 1.0310838451174316, lr: 0.0002637515959165325\n",
      ">>> cluster: 13, modify resolution: 1.0311089347368223, lr: 2.508961939064313e-05\n",
      ">>> cluster: 13, modify resolution: 1.0311115039502288, lr: 2.569213406431188e-06\n",
      ">>> cluster: 13, modify resolution: 1.0411115039502288, lr: 0.01\n",
      ">>> cluster: 13, modify resolution: 1.0422638558053545, lr: 0.0011523518551257172\n",
      ">>> cluster: 13, modify resolution: 1.042322102219935, lr: 5.824641458036318e-05\n",
      ">>> cluster: 13, modify resolution: 1.0423785819845628, lr: 5.6479764627895985e-05\n",
      ">>> cluster: 13, modify resolution: 1.0423974292003573, lr: 1.8847215794375293e-05\n",
      ">>> cluster: 13, modify resolution: 1.0523974292003573, lr: 0.01\n",
      ">>> cluster: 13, modify resolution: 1.0530245510737317, lr: 0.0006271218733744499\n",
      ">>> cluster: 13, modify resolution: 1.0533947323665438, lr: 0.0003701812928120111\n",
      ">>> cluster: 13, modify resolution: 1.0536618465758552, lr: 0.00026711420931141764\n",
      ">>> cluster: 13, modify resolution: 1.0538133582696827, lr: 0.00015151169382761296\n",
      ">>> cluster: 13, modify resolution: 1.0638133582696827, lr: 0.01\n",
      ">>> cluster: 13, modify resolution: 1.065253561926805, lr: 0.0014402036571223842\n",
      ">>> cluster: 13, modify resolution: 1.0654818938526622, lr: 0.00022833192585709015\n",
      ">>> cluster: 13, modify resolution: 1.0656806250717028, lr: 0.00019873121904065237\n",
      ">>> cluster: 13, modify resolution: 1.0658108989257855, lr: 0.00013027385408280882\n",
      ">>> cluster: 13, modify resolution: 1.0758108989257855, lr: 0.01\n",
      ">>> cluster: 13, modify resolution: 1.0836513072393912, lr: 0.007840408313605683\n",
      ">>> cluster: 14, modify resolution: 1.0839503382187772, lr: 0.0002990309793860335\n",
      ">>> cluster: 14, modify resolution: 1.0841905151219307, lr: 0.00024017690315348588\n",
      ">>> cluster: 14, modify resolution: 1.0842760159542928, lr: 8.550083236205792e-05\n",
      ">>> cluster: 14, modify resolution: 1.0942760159542928, lr: 0.01\n",
      ">>> cluster: 14, modify resolution: 1.0978777112957279, lr: 0.003601695341434961\n",
      ">>> cluster: 14, modify resolution: 1.1004901098038227, lr: 0.0026123985080947236\n",
      ">>> cluster: 14, modify resolution: 1.1005034533602016, lr: 1.3343556378947116e-05\n",
      ">>> cluster: 14, modify resolution: 1.1005063363891412, lr: 2.8830289396719616e-06\n",
      ">>> cluster: 14, modify resolution: 1.1105063363891412, lr: 0.01\n",
      ">>> cluster: 14, modify resolution: 1.1172558649386506, lr: 0.006749528549509291\n",
      ">>> cluster: 14, modify resolution: 1.1200286878999834, lr: 0.00277282296133277\n",
      ">>> cluster: 14, modify resolution: 1.1224127530455197, lr: 0.0023840651455361932\n",
      ">>> cluster: 14, modify resolution: 1.124771097375725, lr: 0.002358344330205427\n",
      ">>> cluster: 14, modify resolution: 1.134771097375725, lr: 0.01\n",
      ">>> cluster: 14, modify resolution: 1.1439829875817638, lr: 0.009211890206038726\n",
      ">>> cluster: 14, modify resolution: 1.1457513095878629, lr: 0.0017683220060990682\n",
      ">>> cluster: 14, modify resolution: 1.1466434606530527, lr: 0.0008921510651897793\n",
      ">>> cluster: 14, modify resolution: 1.1472548357060546, lr: 0.0006113750530018042\n",
      ">>> cluster: 14, modify resolution: 1.1572548357060546, lr: 0.01\n",
      ">>> cluster: 14, modify resolution: 1.158723038860794, lr: 0.0014682031547395425\n",
      ">>> cluster: 14, modify resolution: 1.1592242380717357, lr: 0.0005011992109415223\n",
      ">>> cluster: 14, modify resolution: 1.159355609077719, lr: 0.00013137100598341068\n",
      ">>> cluster: 14, modify resolution: 1.1594265753853905, lr: 7.09663076714974e-05\n",
      ">>> cluster: 14, modify resolution: 1.1694265753853905, lr: 0.01\n",
      ">>> resolution: 1.1694265753853905, pre_cluster: 15, cluster: 15\n",
      ">>> louvain: 60.9343\n"
     ]
    }
   ],
   "source": [
    "\n",
    "adata, n_cluster = get_data(dataset_func=get_visium_fluo_data, path='st_datasets/visium_fluo.h5ad')\n",
    "train(adata, n_cluster)\n",
    "ari = evaluate(adata, n_cluster, pred_list=['louvain'])[0]\n",
    "adata.obs['louvain'].to_csv(f'result/predict/Louvain/visium_fluo.txt', index=True, sep='\\t')\n",
    "result.append(ari)"
   ]
  },
  {
   "cell_type": "code",
   "execution_count": 6,
   "metadata": {},
   "outputs": [
    {
     "name": "stdout",
     "output_type": "stream",
     "text": [
      "[41.523684223811216, 33.840935431486486, 31.029613436746878, 36.21968353174218, 28.106414317644674, 15.008777527933908, 5.301005421614693, 29.3461666373658, 25.943025114214425, 29.110734460564824, 32.11468093756329, 28.367227341954678, 19.35269797283636, 66.22036200427334, 60.93431303079102]\n"
     ]
    }
   ],
   "source": [
    "print(result)"
   ]
  }
 ],
 "metadata": {
  "kernelspec": {
   "display_name": "pyg",
   "language": "python",
   "name": "python3"
  },
  "language_info": {
   "codemirror_mode": {
    "name": "ipython",
    "version": 3
   },
   "file_extension": ".py",
   "mimetype": "text/x-python",
   "name": "python",
   "nbconvert_exporter": "python",
   "pygments_lexer": "ipython3",
   "version": "3.8.13"
  },
  "orig_nbformat": 4
 },
 "nbformat": 4,
 "nbformat_minor": 2
}
