{
 "cells": [
  {
   "cell_type": "code",
   "execution_count": 1,
   "metadata": {},
   "outputs": [
    {
     "ename": "OSError",
     "evalue": "Unable to open file (truncated file: eof = 1015414784, sblock->base_addr = 0, stored_eof = 1016037719)",
     "output_type": "error",
     "traceback": [
      "\u001b[0;31m---------------------------------------------------------------------------\u001b[0m",
      "\u001b[0;31mOSError\u001b[0m                                   Traceback (most recent call last)",
      "\u001b[1;32m/mnt/5280e/twang/shuhan/st_clustering/test_imputation.ipynb Cell 1\u001b[0m in \u001b[0;36m<cell line: 8>\u001b[0;34m()\u001b[0m\n\u001b[1;32m      <a href='vscode-notebook-cell://ssh-remote%2B7b22686f73744e616d65223a227365727665722d544954414e227d/mnt/5280e/twang/shuhan/st_clustering/test_imputation.ipynb#W0sdnNjb2RlLXJlbW90ZQ%3D%3D?line=3'>4</a>\u001b[0m \u001b[39mfrom\u001b[39;00m \u001b[39mtools\u001b[39;00m \u001b[39mimport\u001b[39;00m evaluate\n\u001b[1;32m      <a href='vscode-notebook-cell://ssh-remote%2B7b22686f73744e616d65223a227365727665722d544954414e227d/mnt/5280e/twang/shuhan/st_clustering/test_imputation.ipynb#W0sdnNjb2RlLXJlbW90ZQ%3D%3D?line=5'>6</a>\u001b[0m result \u001b[39m=\u001b[39m []\n\u001b[0;32m----> <a href='vscode-notebook-cell://ssh-remote%2B7b22686f73744e616d65223a227365727665722d544954414e227d/mnt/5280e/twang/shuhan/st_clustering/test_imputation.ipynb#W0sdnNjb2RlLXJlbW90ZQ%3D%3D?line=7'>8</a>\u001b[0m f \u001b[39m=\u001b[39m h5py\u001b[39m.\u001b[39;49mFile(\u001b[39m'\u001b[39;49m\u001b[39mresult(2).h5\u001b[39;49m\u001b[39m'\u001b[39;49m, \u001b[39m'\u001b[39;49m\u001b[39mr\u001b[39;49m\u001b[39m'\u001b[39;49m)\n\u001b[1;32m      <a href='vscode-notebook-cell://ssh-remote%2B7b22686f73744e616d65223a227365727665722d544954414e227d/mnt/5280e/twang/shuhan/st_clustering/test_imputation.ipynb#W0sdnNjb2RlLXJlbW90ZQ%3D%3D?line=8'>9</a>\u001b[0m df \u001b[39m=\u001b[39m pd\u001b[39m.\u001b[39mDataFrame(f[\u001b[39m'\u001b[39m\u001b[39mimputed_data\u001b[39m\u001b[39m'\u001b[39m])\n\u001b[1;32m     <a href='vscode-notebook-cell://ssh-remote%2B7b22686f73744e616d65223a227365727665722d544954414e227d/mnt/5280e/twang/shuhan/st_clustering/test_imputation.ipynb#W0sdnNjb2RlLXJlbW90ZQ%3D%3D?line=9'>10</a>\u001b[0m adat, n_cluster, _ \u001b[39m=\u001b[39m get_human_breast_cancer_data()\n",
      "File \u001b[0;32m~/.conda/envs/torch+pyg/lib/python3.8/site-packages/h5py/_hl/files.py:533\u001b[0m, in \u001b[0;36mFile.__init__\u001b[0;34m(self, name, mode, driver, libver, userblock_size, swmr, rdcc_nslots, rdcc_nbytes, rdcc_w0, track_order, fs_strategy, fs_persist, fs_threshold, fs_page_size, page_buf_size, min_meta_keep, min_raw_keep, locking, alignment_threshold, alignment_interval, **kwds)\u001b[0m\n\u001b[1;32m    525\u001b[0m     fapl \u001b[39m=\u001b[39m make_fapl(driver, libver, rdcc_nslots, rdcc_nbytes, rdcc_w0,\n\u001b[1;32m    526\u001b[0m                      locking, page_buf_size, min_meta_keep, min_raw_keep,\n\u001b[1;32m    527\u001b[0m                      alignment_threshold\u001b[39m=\u001b[39malignment_threshold,\n\u001b[1;32m    528\u001b[0m                      alignment_interval\u001b[39m=\u001b[39malignment_interval,\n\u001b[1;32m    529\u001b[0m                      \u001b[39m*\u001b[39m\u001b[39m*\u001b[39mkwds)\n\u001b[1;32m    530\u001b[0m     fcpl \u001b[39m=\u001b[39m make_fcpl(track_order\u001b[39m=\u001b[39mtrack_order, fs_strategy\u001b[39m=\u001b[39mfs_strategy,\n\u001b[1;32m    531\u001b[0m                      fs_persist\u001b[39m=\u001b[39mfs_persist, fs_threshold\u001b[39m=\u001b[39mfs_threshold,\n\u001b[1;32m    532\u001b[0m                      fs_page_size\u001b[39m=\u001b[39mfs_page_size)\n\u001b[0;32m--> 533\u001b[0m     fid \u001b[39m=\u001b[39m make_fid(name, mode, userblock_size, fapl, fcpl, swmr\u001b[39m=\u001b[39;49mswmr)\n\u001b[1;32m    535\u001b[0m \u001b[39mif\u001b[39;00m \u001b[39misinstance\u001b[39m(libver, \u001b[39mtuple\u001b[39m):\n\u001b[1;32m    536\u001b[0m     \u001b[39mself\u001b[39m\u001b[39m.\u001b[39m_libver \u001b[39m=\u001b[39m libver\n",
      "File \u001b[0;32m~/.conda/envs/torch+pyg/lib/python3.8/site-packages/h5py/_hl/files.py:226\u001b[0m, in \u001b[0;36mmake_fid\u001b[0;34m(name, mode, userblock_size, fapl, fcpl, swmr)\u001b[0m\n\u001b[1;32m    224\u001b[0m     \u001b[39mif\u001b[39;00m swmr \u001b[39mand\u001b[39;00m swmr_support:\n\u001b[1;32m    225\u001b[0m         flags \u001b[39m|\u001b[39m\u001b[39m=\u001b[39m h5f\u001b[39m.\u001b[39mACC_SWMR_READ\n\u001b[0;32m--> 226\u001b[0m     fid \u001b[39m=\u001b[39m h5f\u001b[39m.\u001b[39;49mopen(name, flags, fapl\u001b[39m=\u001b[39;49mfapl)\n\u001b[1;32m    227\u001b[0m \u001b[39melif\u001b[39;00m mode \u001b[39m==\u001b[39m \u001b[39m'\u001b[39m\u001b[39mr+\u001b[39m\u001b[39m'\u001b[39m:\n\u001b[1;32m    228\u001b[0m     fid \u001b[39m=\u001b[39m h5f\u001b[39m.\u001b[39mopen(name, h5f\u001b[39m.\u001b[39mACC_RDWR, fapl\u001b[39m=\u001b[39mfapl)\n",
      "File \u001b[0;32mh5py/_objects.pyx:54\u001b[0m, in \u001b[0;36mh5py._objects.with_phil.wrapper\u001b[0;34m()\u001b[0m\n",
      "File \u001b[0;32mh5py/_objects.pyx:55\u001b[0m, in \u001b[0;36mh5py._objects.with_phil.wrapper\u001b[0;34m()\u001b[0m\n",
      "File \u001b[0;32mh5py/h5f.pyx:106\u001b[0m, in \u001b[0;36mh5py.h5f.open\u001b[0;34m()\u001b[0m\n",
      "\u001b[0;31mOSError\u001b[0m: Unable to open file (truncated file: eof = 1015414784, sblock->base_addr = 0, stored_eof = 1016037719)"
     ]
    }
   ],
   "source": [
    "import pandas as pd\n",
    "import h5py\n",
    "from st_datasets.dataset import *\n",
    "from tools import evaluate\n",
    "\n",
    "result = []\n",
    "\n",
    "f = h5py.File('result(2).h5', 'r')\n",
    "df = pd.DataFrame(f['imputed_data'])\n",
    "adat, n_cluster, _ = get_human_breast_cancer_data()\n",
    "adat.X = df\n",
    "sc.pp.highly_variable_genes(adat, flavor=\"seurat_v3\", n_top_genes=3000)\n",
    "sc.pp.normalize_total(adat, target_sum=1e4)\n",
    "sc.pp.log1p(adat)"
   ]
  },
  {
   "cell_type": "code",
   "execution_count": null,
   "metadata": {},
   "outputs": [
    {
     "name": "stderr",
     "output_type": "stream",
     "text": [
      "/mnt/5468e/twang/.conda/envs/pyg/lib/python3.10/site-packages/sklearn/cluster/_kmeans.py:870: FutureWarning: The default value of `n_init` will change from 10 to 'auto' in 1.4. Set the value of `n_init` explicitly to suppress the warning\n",
      "  warnings.warn(\n"
     ]
    },
    {
     "data": {
      "text/plain": [
       "69.36789975924572"
      ]
     },
     "execution_count": 12,
     "metadata": {},
     "output_type": "execute_result"
    }
   ],
   "source": [
    "from sklearn.cluster import KMeans\n",
    "from sklearn.preprocessing import LabelEncoder \n",
    "from sklearn.metrics import adjusted_rand_score\n",
    "\n",
    "res = KMeans(n_clusters=n_cluster, random_state=0).fit(adat.X).predict(adat.X)\n",
    "label = LabelEncoder().fit_transform([str(x) for x in res])\n",
    "ARI = adjusted_rand_score(label, adat.obs['cluster']) * 100\n",
    "ARI"
   ]
  },
  {
   "cell_type": "code",
   "execution_count": null,
   "metadata": {},
   "outputs": [
    {
     "name": "stdout",
     "output_type": "stream",
     "text": [
      "===== Preprocessing Data \n",
      "calculating distance matrix, it takes a while\n",
      "300 22064 2.9046866771985256\n"
     ]
    },
    {
     "name": "stderr",
     "output_type": "stream",
     "text": [
      "/mnt/5468e/twang/.conda/envs/pyg/lib/python3.10/site-packages/torch_geometric/deprecation.py:12: UserWarning: 'data.DataLoader' is deprecated, use 'loader.DataLoader' instead\n",
      "  warnings.warn(out)\n"
     ]
    },
    {
     "name": "stdout",
     "output_type": "stream",
     "text": [
      ">>> graph contains 22064 edges, 5.809373354397051 edges per node\n",
      ">>> begin to train DGI, shape: (3798, 300)\n"
     ]
    },
    {
     "name": "stderr",
     "output_type": "stream",
     "text": [
      "100%|██████████| 5000/5000 [01:06<00:00, 74.63it/s]\n"
     ]
    },
    {
     "name": "stdout",
     "output_type": "stream",
     "text": [
      "Training time in seconds:  66\n",
      "Shape of data to PCA: (3798, 256)\n",
      "Shape of data output by PCA: (3798, 50)\n",
      "PCA recover: 0.994666\n",
      ">>> CCST: 79.9299\n",
      ">>> CCST_pca: 79.4841\n"
     ]
    }
   ],
   "source": [
    "adata = adat.copy()\n",
    "from CCST.run import train\n",
    "\n",
    "train(adata, 300, n_cluster)\n",
    "ari, ari_pca = evaluate(adata, pred_list=['CCST', 'CCST_pca'])\n",
    "result.append(ari)"
   ]
  },
  {
   "cell_type": "code",
   "execution_count": null,
   "metadata": {},
   "outputs": [
    {
     "name": "stdout",
     "output_type": "stream",
     "text": [
      "Begin to train ST data...\n"
     ]
    },
    {
     "name": "stderr",
     "output_type": "stream",
     "text": [
      "100%|██████████| 600/600 [00:13<00:00, 45.92it/s]\n"
     ]
    },
    {
     "name": "stdout",
     "output_type": "stream",
     "text": [
      "Optimization finished for ST data!\n"
     ]
    },
    {
     "name": "stderr",
     "output_type": "stream",
     "text": [
      "R[write to console]:                    __           __ \n",
      "   ____ ___  _____/ /_  _______/ /_\n",
      "  / __ `__ \\/ ___/ / / / / ___/ __/\n",
      " / / / / / / /__/ / /_/ (__  ) /_  \n",
      "/_/ /_/ /_/\\___/_/\\__,_/____/\\__/   version 5.4.10\n",
      "Type 'citation(\"mclust\")' for citing this R package in publications.\n",
      "\n"
     ]
    },
    {
     "name": "stdout",
     "output_type": "stream",
     "text": [
      "fitting ...\n",
      "  |======================================================================| 100%\n"
     ]
    }
   ],
   "source": [
    "adata = adat.copy()\n",
    "from sklearn import metrics\n",
    "from GraphST.GraphST import GraphST\n",
    "from GraphST.utils import clustering\n",
    "\n",
    "model = GraphST(adata, device='cuda')\n",
    "adata = model.train()\n",
    "radius = 50\n",
    "clustering(adata, n_cluster, radius=radius, method='mclust', refinement=False)\n",
    "obs_df = adata.obs.dropna()\n",
    "ARI = metrics.adjusted_rand_score(obs_df['domain'], obs_df['cluster'])*100\n",
    "result.append(ARI)"
   ]
  },
  {
   "cell_type": "code",
   "execution_count": null,
   "metadata": {},
   "outputs": [
    {
     "name": "stdout",
     "output_type": "stream",
     "text": [
      "Calculateing adj matrix using xy only...\n",
      "WARNING: adata.X seems to be already log-transformed.\n",
      "Run 1: l [0.01, 1000], p [0.0, 83.64162436864945]\n",
      "Run 2: l [0.01, 500.005], p [0.0, 21.58456802368164]\n",
      "Run 3: l [0.01, 250.0075], p [0.0, 4.846828460693359]\n",
      "Run 4: l [0.01, 125.00874999999999], p [0.0, 0.5336281061172485]\n",
      "Run 5: l [62.509375, 125.00874999999999], p [0.00040018558502197266, 0.5336281061172485]\n",
      "Run 6: l [93.7590625, 125.00874999999999], p [0.0820695161819458, 0.5336281061172485]\n",
      "Run 7: l [109.38390625, 125.00874999999999], p [0.2545154094696045, 0.5336281061172485]\n",
      "Run 8: l [117.196328125, 125.00874999999999], p [0.3819239139556885, 0.5336281061172485]\n",
      "Run 9: l [121.1025390625, 125.00874999999999], p [0.4549444913864136, 0.5336281061172485]\n",
      "recommended l =  123.05564453125\n",
      "Start at res =  0.7 step =  0.1\n",
      "Initializing cluster centers with louvain, resolution =  0.7\n",
      "Epoch  0\n",
      "Epoch  10\n",
      "Res =  0.7 Num of clusters =  22\n",
      "Initializing cluster centers with louvain, resolution =  0.6\n",
      "Epoch  0\n",
      "Epoch  10\n",
      "Res =  0.6 Num of clusters =  22\n",
      "Res changed to 0.6\n",
      "Initializing cluster centers with louvain, resolution =  0.5\n",
      "Epoch  0\n",
      "Epoch  10\n",
      "Res =  0.5 Num of clusters =  19\n",
      "Step changed to 0.05\n",
      "Initializing cluster centers with louvain, resolution =  0.5499999999999999\n",
      "Epoch  0\n",
      "Epoch  10\n",
      "Res =  0.5499999999999999 Num of clusters =  19\n",
      "Step changed to 0.025\n",
      "Initializing cluster centers with louvain, resolution =  0.575\n",
      "Epoch  0\n",
      "Epoch  10\n",
      "Res =  0.575 Num of clusters =  21\n",
      "Res changed to 0.575\n",
      "Initializing cluster centers with louvain, resolution =  0.5499999999999999\n",
      "Epoch  0\n",
      "Epoch  10\n",
      "Res =  0.5499999999999999 Num of clusters =  19\n",
      "Step changed to 0.0125\n",
      "Initializing cluster centers with louvain, resolution =  0.5625\n",
      "Epoch  0\n",
      "Epoch  10\n",
      "Res =  0.5625 Num of clusters =  19\n",
      "Step changed to 0.00625\n",
      "Initializing cluster centers with louvain, resolution =  0.56875\n",
      "Epoch  0\n",
      "Epoch  10\n",
      "Res =  0.56875 Num of clusters =  21\n",
      "Res changed to 0.56875\n",
      "Initializing cluster centers with louvain, resolution =  0.5625\n",
      "Epoch  0\n",
      "Epoch  10\n",
      "Res =  0.5625 Num of clusters =  19\n",
      "Step changed to 0.003125\n",
      "Initializing cluster centers with louvain, resolution =  0.5656249999999999\n",
      "Epoch  0\n",
      "Epoch  10\n",
      "Res =  0.5656249999999999 Num of clusters =  19\n",
      "Step changed to 0.0015625\n",
      "Initializing cluster centers with louvain, resolution =  0.5671875\n",
      "Epoch  0\n",
      "Epoch  10\n",
      "Res =  0.5671875 Num of clusters =  21\n",
      "Res changed to 0.5671875\n",
      "Initializing cluster centers with louvain, resolution =  0.5656249999999999\n",
      "Epoch  0\n",
      "Epoch  10\n",
      "Res =  0.5656249999999999 Num of clusters =  19\n",
      "Step changed to 0.00078125\n",
      "Initializing cluster centers with louvain, resolution =  0.56640625\n",
      "Epoch  0\n",
      "Epoch  10\n",
      "Res =  0.56640625 Num of clusters =  19\n",
      "Step changed to 0.000390625\n",
      "Exact resolution not found\n",
      "Recommended res =  0.5671875\n",
      "Initializing cluster centers with louvain, resolution =  0.5671875\n",
      "Epoch  0\n",
      "Epoch  10\n",
      "Epoch  20\n",
      "Epoch  30\n",
      "Epoch  40\n",
      "delta_label  0.004476040021063717 < tol  0.005\n",
      "Reach tolerance threshold. Stopping training.\n",
      "Total epoch: 40\n",
      "Calculateing adj matrix using xy only...\n",
      ">>> pred: 95.1889\n",
      ">>> refined_pred: 94.2438\n"
     ]
    }
   ],
   "source": [
    "adata = adat.copy()\n",
    "from train_SpaGCN import train_spg\n",
    "\n",
    "train_spg(adata, n_cluster)\n",
    "ari, ari_refine = evaluate(adata, pred_list=['pred', 'refined_pred'])\n",
    "result.append(ari)"
   ]
  },
  {
   "cell_type": "code",
   "execution_count": null,
   "metadata": {},
   "outputs": [
    {
     "name": "stdout",
     "output_type": "stream",
     "text": [
      "------Calculating spatial graph...\n",
      "The graph contains 22064 edges, 3798 cells.\n",
      "5.8094 neighbors per cell on average.\n",
      "Size of Input:  (3798, 3000)\n"
     ]
    },
    {
     "name": "stderr",
     "output_type": "stream",
     "text": [
      "100%|██████████| 1000/1000 [00:11<00:00, 88.35it/s]"
     ]
    },
    {
     "name": "stdout",
     "output_type": "stream",
     "text": [
      "fitting ...\n",
      "  |                                                                      |   0%"
     ]
    },
    {
     "name": "stderr",
     "output_type": "stream",
     "text": [
      "\n"
     ]
    },
    {
     "name": "stdout",
     "output_type": "stream",
     "text": [
      "  |======================================================================| 100%\n"
     ]
    }
   ],
   "source": [
    "adata = adat.copy()\n",
    "import STAGATE_pyG as STAGATE\n",
    "from sklearn.metrics import adjusted_rand_score\n",
    "\n",
    "STAGATE.Cal_Spatial_Net(adata, rad_cutoff=300)\n",
    "adata = STAGATE.train_STAGATE(adata)\n",
    "adata = STAGATE.mclust_R(adata, used_obsm='STAGATE', num_cluster=n_cluster)\n",
    "obs_df = adata.obs.dropna()\n",
    "ARI = adjusted_rand_score(obs_df['mclust'], obs_df['cluster'])*100\n",
    "result.append(ARI)"
   ]
  },
  {
   "cell_type": "code",
   "execution_count": null,
   "metadata": {},
   "outputs": [
    {
     "name": "stdout",
     "output_type": "stream",
     "text": [
      "[79.92986283985823, 80.8858804023149, 95.18891774936975, 70.68702659284463]\n"
     ]
    }
   ],
   "source": [
    "print(result)"
   ]
  }
 ],
 "metadata": {
  "kernelspec": {
   "display_name": "pyg",
   "language": "python",
   "name": "python3"
  },
  "language_info": {
   "codemirror_mode": {
    "name": "ipython",
    "version": 3
   },
   "file_extension": ".py",
   "mimetype": "text/x-python",
   "name": "python",
   "nbconvert_exporter": "python",
   "pygments_lexer": "ipython3",
   "version": "3.8.13"
  },
  "orig_nbformat": 4
 },
 "nbformat": 4,
 "nbformat_minor": 2
}
