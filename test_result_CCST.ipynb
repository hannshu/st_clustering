{
 "cells": [
  {
   "cell_type": "code",
   "execution_count": 1,
   "metadata": {},
   "outputs": [],
   "source": [
    "from CCST.run import train\n",
    "from st_datasets.dataset import *\n",
    "from tools import evaluate\n",
    "import numpy as np\n",
    "\n",
    "result = []\n",
    "result_pca = []"
   ]
  },
  {
   "attachments": {},
   "cell_type": "markdown",
   "metadata": {},
   "source": [
    "# human breast cancer"
   ]
  },
  {
   "cell_type": "code",
   "execution_count": 2,
   "metadata": {},
   "outputs": [
    {
     "name": "stderr",
     "output_type": "stream",
     "text": [
      "/mnt/5280e/twang/.conda/envs/torch+pyg/lib/python3.8/site-packages/anndata/_core/anndata.py:1830: UserWarning: Variable names are not unique. To make them unique, call `.var_names_make_unique`.\n",
      "  utils.warn_names_duplicates(\"var\")\n"
     ]
    },
    {
     "name": "stdout",
     "output_type": "stream",
     "text": [
      ">>> INFO: dataset name: human_breast_cancer, size: (3798, 36601), cluster: 20.(4.351s)\n",
      "===== Preprocessing Data \n",
      "calculating distance matrix, it takes a while\n",
      "300 22064 2.9046866771985256\n"
     ]
    },
    {
     "name": "stderr",
     "output_type": "stream",
     "text": [
      "/mnt/5280e/twang/.conda/envs/torch+pyg/lib/python3.8/site-packages/torch_geometric/deprecation.py:12: UserWarning: 'data.DataLoader' is deprecated, use 'loader.DataLoader' instead\n",
      "  warnings.warn(out)\n"
     ]
    },
    {
     "name": "stdout",
     "output_type": "stream",
     "text": [
      ">>> graph contains 22064 edges, 5.809373354397051 edges per node\n",
      ">>> begin to train DGI, shape: (3798, 300)\n"
     ]
    },
    {
     "name": "stderr",
     "output_type": "stream",
     "text": [
      "100%|██████████| 5000/5000 [01:51<00:00, 44.76it/s]\n"
     ]
    },
    {
     "name": "stdout",
     "output_type": "stream",
     "text": [
      "Training time in seconds:  111\n",
      "Shape of data to PCA: (3798, 256)\n",
      "Shape of data output by PCA: (3798, 50)\n",
      "PCA recover: 0.9633164\n",
      ">>> CCST: 54.0452\n",
      ">>> CCST_pca: 54.9841\n"
     ]
    }
   ],
   "source": [
    "adata, n_cluster = get_data(dataset_func=get_human_breast_cancer_data)\n",
    "train(adata, 300, n_cluster)\n",
    "ari, ari_pca = evaluate(adata, pred_list=['CCST', 'CCST_pca'])\n",
    "np.save('result/embedding/CCST/human_breast_cancer.npy', arr=np.array(adata.obsm['CCST']))\n",
    "result.append(ari)\n",
    "result_pca.append(ari_pca)"
   ]
  },
  {
   "attachments": {},
   "cell_type": "markdown",
   "metadata": {},
   "source": [
    "# DLPFC"
   ]
  },
  {
   "cell_type": "code",
   "execution_count": 3,
   "metadata": {},
   "outputs": [
    {
     "name": "stderr",
     "output_type": "stream",
     "text": [
      "/mnt/5280e/twang/.conda/envs/torch+pyg/lib/python3.8/site-packages/anndata/_core/anndata.py:1830: UserWarning: Variable names are not unique. To make them unique, call `.var_names_make_unique`.\n",
      "  utils.warn_names_duplicates(\"var\")\n"
     ]
    },
    {
     "name": "stdout",
     "output_type": "stream",
     "text": [
      ">>> INFO: dataset name: dlpfc, slice id: 151507, size: (4226, 33538), cluster: 7.(1.452s)\n",
      "===== Preprocessing Data \n",
      "calculating distance matrix, it takes a while\n",
      "150 24770 2.930667297681022\n"
     ]
    },
    {
     "name": "stderr",
     "output_type": "stream",
     "text": [
      "/mnt/5280e/twang/.conda/envs/torch+pyg/lib/python3.8/site-packages/torch_geometric/deprecation.py:12: UserWarning: 'data.DataLoader' is deprecated, use 'loader.DataLoader' instead\n",
      "  warnings.warn(out)\n"
     ]
    },
    {
     "name": "stdout",
     "output_type": "stream",
     "text": [
      ">>> graph contains 24770 edges, 5.861334595362044 edges per node\n",
      ">>> begin to train DGI, shape: (4226, 300)\n"
     ]
    },
    {
     "name": "stderr",
     "output_type": "stream",
     "text": [
      "100%|██████████| 5000/5000 [01:07<00:00, 73.82it/s]\n"
     ]
    },
    {
     "name": "stdout",
     "output_type": "stream",
     "text": [
      "Training time in seconds:  67\n",
      "Shape of data to PCA: (4226, 256)\n",
      "Shape of data output by PCA: (4226, 50)\n",
      "PCA recover: 0.93152344\n",
      ">>> CCST: 43.5166\n",
      ">>> CCST_pca: 44.4209\n"
     ]
    },
    {
     "name": "stderr",
     "output_type": "stream",
     "text": [
      "/mnt/5280e/twang/.conda/envs/torch+pyg/lib/python3.8/site-packages/anndata/_core/anndata.py:1830: UserWarning: Variable names are not unique. To make them unique, call `.var_names_make_unique`.\n",
      "  utils.warn_names_duplicates(\"var\")\n"
     ]
    },
    {
     "name": "stdout",
     "output_type": "stream",
     "text": [
      ">>> INFO: dataset name: dlpfc, slice id: 151508, size: (4384, 33538), cluster: 7.(1.230s)\n",
      "===== Preprocessing Data \n",
      "calculating distance matrix, it takes a while\n",
      "150 25698 2.9308850364963503\n"
     ]
    },
    {
     "name": "stderr",
     "output_type": "stream",
     "text": [
      "/mnt/5280e/twang/.conda/envs/torch+pyg/lib/python3.8/site-packages/torch_geometric/deprecation.py:12: UserWarning: 'data.DataLoader' is deprecated, use 'loader.DataLoader' instead\n",
      "  warnings.warn(out)\n"
     ]
    },
    {
     "name": "stdout",
     "output_type": "stream",
     "text": [
      ">>> graph contains 25698 edges, 5.861770072992701 edges per node\n",
      ">>> begin to train DGI, shape: (4384, 300)\n"
     ]
    },
    {
     "name": "stderr",
     "output_type": "stream",
     "text": [
      "100%|██████████| 5000/5000 [01:12<00:00, 69.39it/s]\n"
     ]
    },
    {
     "name": "stdout",
     "output_type": "stream",
     "text": [
      "Training time in seconds:  72\n",
      "Shape of data to PCA: (4384, 256)\n",
      "Shape of data output by PCA: (4384, 50)\n",
      "PCA recover: 0.92834085\n",
      ">>> CCST: 35.0299\n",
      ">>> CCST_pca: 35.1189\n"
     ]
    },
    {
     "name": "stderr",
     "output_type": "stream",
     "text": [
      "/mnt/5280e/twang/.conda/envs/torch+pyg/lib/python3.8/site-packages/anndata/_core/anndata.py:1830: UserWarning: Variable names are not unique. To make them unique, call `.var_names_make_unique`.\n",
      "  utils.warn_names_duplicates(\"var\")\n"
     ]
    },
    {
     "name": "stdout",
     "output_type": "stream",
     "text": [
      ">>> INFO: dataset name: dlpfc, slice id: 151509, size: (4789, 33538), cluster: 7.(1.592s)\n",
      "===== Preprocessing Data \n",
      "calculating distance matrix, it takes a while\n",
      "150 28172 2.9413238671956567\n"
     ]
    },
    {
     "name": "stderr",
     "output_type": "stream",
     "text": [
      "/mnt/5280e/twang/.conda/envs/torch+pyg/lib/python3.8/site-packages/torch_geometric/deprecation.py:12: UserWarning: 'data.DataLoader' is deprecated, use 'loader.DataLoader' instead\n",
      "  warnings.warn(out)\n"
     ]
    },
    {
     "name": "stdout",
     "output_type": "stream",
     "text": [
      ">>> graph contains 28172 edges, 5.8826477343913135 edges per node\n",
      ">>> begin to train DGI, shape: (4789, 300)\n"
     ]
    },
    {
     "name": "stderr",
     "output_type": "stream",
     "text": [
      "100%|██████████| 5000/5000 [01:21<00:00, 61.12it/s]\n"
     ]
    },
    {
     "name": "stdout",
     "output_type": "stream",
     "text": [
      "Training time in seconds:  81\n",
      "Shape of data to PCA: (4789, 256)\n",
      "Shape of data output by PCA: (4789, 50)\n",
      "PCA recover: 0.9368405\n",
      ">>> CCST: 41.0423\n",
      ">>> CCST_pca: 41.1401\n"
     ]
    },
    {
     "name": "stderr",
     "output_type": "stream",
     "text": [
      "/mnt/5280e/twang/.conda/envs/torch+pyg/lib/python3.8/site-packages/anndata/_core/anndata.py:1830: UserWarning: Variable names are not unique. To make them unique, call `.var_names_make_unique`.\n",
      "  utils.warn_names_duplicates(\"var\")\n"
     ]
    },
    {
     "name": "stdout",
     "output_type": "stream",
     "text": [
      ">>> INFO: dataset name: dlpfc, slice id: 151510, size: (4634, 33538), cluster: 7.(1.570s)\n",
      "===== Preprocessing Data \n"
     ]
    },
    {
     "name": "stderr",
     "output_type": "stream",
     "text": [
      "/mnt/5280e/twang/.conda/envs/torch+pyg/lib/python3.8/site-packages/scanpy/preprocessing/_normalization.py:197: UserWarning: Some cells have zero counts\n",
      "  warn(UserWarning('Some cells have zero counts'))\n"
     ]
    },
    {
     "name": "stdout",
     "output_type": "stream",
     "text": [
      "calculating distance matrix, it takes a while\n",
      "150 27198 2.934613724643936\n"
     ]
    },
    {
     "name": "stderr",
     "output_type": "stream",
     "text": [
      "/mnt/5280e/twang/.conda/envs/torch+pyg/lib/python3.8/site-packages/torch_geometric/deprecation.py:12: UserWarning: 'data.DataLoader' is deprecated, use 'loader.DataLoader' instead\n",
      "  warnings.warn(out)\n"
     ]
    },
    {
     "name": "stdout",
     "output_type": "stream",
     "text": [
      ">>> graph contains 27198 edges, 5.869227449287872 edges per node\n",
      ">>> begin to train DGI, shape: (4634, 300)\n"
     ]
    },
    {
     "name": "stderr",
     "output_type": "stream",
     "text": [
      "100%|██████████| 5000/5000 [01:12<00:00, 68.94it/s]\n"
     ]
    },
    {
     "name": "stdout",
     "output_type": "stream",
     "text": [
      "Training time in seconds:  72\n",
      "Shape of data to PCA: (4634, 256)\n",
      "Shape of data output by PCA: (4634, 50)\n",
      "PCA recover: 0.9314043\n",
      ">>> CCST: 32.7420\n",
      ">>> CCST_pca: 32.9651\n"
     ]
    },
    {
     "name": "stderr",
     "output_type": "stream",
     "text": [
      "/mnt/5280e/twang/.conda/envs/torch+pyg/lib/python3.8/site-packages/anndata/_core/anndata.py:1830: UserWarning: Variable names are not unique. To make them unique, call `.var_names_make_unique`.\n",
      "  utils.warn_names_duplicates(\"var\")\n"
     ]
    },
    {
     "name": "stdout",
     "output_type": "stream",
     "text": [
      ">>> INFO: dataset name: dlpfc, slice id: 151669, size: (3661, 33538), cluster: 5.(1.589s)\n",
      "===== Preprocessing Data \n",
      "calculating distance matrix, it takes a while\n",
      "150 21194 2.8945643266866976\n"
     ]
    },
    {
     "name": "stderr",
     "output_type": "stream",
     "text": [
      "/mnt/5280e/twang/.conda/envs/torch+pyg/lib/python3.8/site-packages/torch_geometric/deprecation.py:12: UserWarning: 'data.DataLoader' is deprecated, use 'loader.DataLoader' instead\n",
      "  warnings.warn(out)\n"
     ]
    },
    {
     "name": "stdout",
     "output_type": "stream",
     "text": [
      ">>> graph contains 21194 edges, 5.789128653373395 edges per node\n",
      ">>> begin to train DGI, shape: (3661, 300)\n"
     ]
    },
    {
     "name": "stderr",
     "output_type": "stream",
     "text": [
      "100%|██████████| 5000/5000 [01:04<00:00, 78.02it/s]\n"
     ]
    },
    {
     "name": "stdout",
     "output_type": "stream",
     "text": [
      "Training time in seconds:  64\n",
      "Shape of data to PCA: (3661, 256)\n",
      "Shape of data output by PCA: (3661, 50)\n",
      "PCA recover: 0.9320166\n",
      ">>> CCST: 34.9822\n",
      ">>> CCST_pca: 34.2546\n"
     ]
    },
    {
     "name": "stderr",
     "output_type": "stream",
     "text": [
      "/mnt/5280e/twang/.conda/envs/torch+pyg/lib/python3.8/site-packages/anndata/_core/anndata.py:1830: UserWarning: Variable names are not unique. To make them unique, call `.var_names_make_unique`.\n",
      "  utils.warn_names_duplicates(\"var\")\n"
     ]
    },
    {
     "name": "stdout",
     "output_type": "stream",
     "text": [
      ">>> INFO: dataset name: dlpfc, slice id: 151670, size: (3498, 33538), cluster: 5.(1.394s)\n",
      "===== Preprocessing Data \n",
      "calculating distance matrix, it takes a while\n",
      "150 20370 2.911663807890223\n"
     ]
    },
    {
     "name": "stderr",
     "output_type": "stream",
     "text": [
      "/mnt/5280e/twang/.conda/envs/torch+pyg/lib/python3.8/site-packages/torch_geometric/deprecation.py:12: UserWarning: 'data.DataLoader' is deprecated, use 'loader.DataLoader' instead\n",
      "  warnings.warn(out)\n"
     ]
    },
    {
     "name": "stdout",
     "output_type": "stream",
     "text": [
      ">>> graph contains 20370 edges, 5.823327615780446 edges per node\n",
      ">>> begin to train DGI, shape: (3498, 300)\n"
     ]
    },
    {
     "name": "stderr",
     "output_type": "stream",
     "text": [
      "100%|██████████| 5000/5000 [01:05<00:00, 76.72it/s]\n"
     ]
    },
    {
     "name": "stdout",
     "output_type": "stream",
     "text": [
      "Training time in seconds:  65\n",
      "Shape of data to PCA: (3498, 256)\n",
      "Shape of data output by PCA: (3498, 50)\n",
      "PCA recover: 0.9389353\n",
      ">>> CCST: 30.3927\n",
      ">>> CCST_pca: 30.3713\n"
     ]
    },
    {
     "name": "stderr",
     "output_type": "stream",
     "text": [
      "/mnt/5280e/twang/.conda/envs/torch+pyg/lib/python3.8/site-packages/anndata/_core/anndata.py:1830: UserWarning: Variable names are not unique. To make them unique, call `.var_names_make_unique`.\n",
      "  utils.warn_names_duplicates(\"var\")\n"
     ]
    },
    {
     "name": "stdout",
     "output_type": "stream",
     "text": [
      ">>> INFO: dataset name: dlpfc, slice id: 151671, size: (4110, 33538), cluster: 5.(1.639s)\n",
      "===== Preprocessing Data \n",
      "calculating distance matrix, it takes a while\n",
      "150 24052 2.9260340632603405\n"
     ]
    },
    {
     "name": "stderr",
     "output_type": "stream",
     "text": [
      "/mnt/5280e/twang/.conda/envs/torch+pyg/lib/python3.8/site-packages/torch_geometric/deprecation.py:12: UserWarning: 'data.DataLoader' is deprecated, use 'loader.DataLoader' instead\n",
      "  warnings.warn(out)\n"
     ]
    },
    {
     "name": "stdout",
     "output_type": "stream",
     "text": [
      ">>> graph contains 24052 edges, 5.852068126520681 edges per node\n",
      ">>> begin to train DGI, shape: (4110, 300)\n"
     ]
    },
    {
     "name": "stderr",
     "output_type": "stream",
     "text": [
      "100%|██████████| 5000/5000 [01:08<00:00, 72.91it/s]\n"
     ]
    },
    {
     "name": "stdout",
     "output_type": "stream",
     "text": [
      "Training time in seconds:  68\n",
      "Shape of data to PCA: (4110, 256)\n",
      "Shape of data output by PCA: (4110, 50)\n",
      "PCA recover: 0.9522765\n",
      ">>> CCST: 43.7495\n",
      ">>> CCST_pca: 43.5052\n"
     ]
    },
    {
     "name": "stderr",
     "output_type": "stream",
     "text": [
      "/mnt/5280e/twang/.conda/envs/torch+pyg/lib/python3.8/site-packages/anndata/_core/anndata.py:1830: UserWarning: Variable names are not unique. To make them unique, call `.var_names_make_unique`.\n",
      "  utils.warn_names_duplicates(\"var\")\n"
     ]
    },
    {
     "name": "stdout",
     "output_type": "stream",
     "text": [
      ">>> INFO: dataset name: dlpfc, slice id: 151672, size: (4015, 33538), cluster: 5.(1.489s)\n",
      "===== Preprocessing Data \n",
      "calculating distance matrix, it takes a while\n",
      "150 23382 2.9118306351183065\n"
     ]
    },
    {
     "name": "stderr",
     "output_type": "stream",
     "text": [
      "/mnt/5280e/twang/.conda/envs/torch+pyg/lib/python3.8/site-packages/torch_geometric/deprecation.py:12: UserWarning: 'data.DataLoader' is deprecated, use 'loader.DataLoader' instead\n",
      "  warnings.warn(out)\n"
     ]
    },
    {
     "name": "stdout",
     "output_type": "stream",
     "text": [
      ">>> graph contains 23382 edges, 5.823661270236613 edges per node\n",
      ">>> begin to train DGI, shape: (4015, 300)\n"
     ]
    },
    {
     "name": "stderr",
     "output_type": "stream",
     "text": [
      "100%|██████████| 5000/5000 [01:04<00:00, 78.11it/s]\n"
     ]
    },
    {
     "name": "stdout",
     "output_type": "stream",
     "text": [
      "Training time in seconds:  64\n",
      "Shape of data to PCA: (4015, 256)\n",
      "Shape of data output by PCA: (4015, 50)\n",
      "PCA recover: 0.9548601\n",
      ">>> CCST: 43.4520\n",
      ">>> CCST_pca: 43.5981\n"
     ]
    },
    {
     "name": "stderr",
     "output_type": "stream",
     "text": [
      "/mnt/5280e/twang/.conda/envs/torch+pyg/lib/python3.8/site-packages/anndata/_core/anndata.py:1830: UserWarning: Variable names are not unique. To make them unique, call `.var_names_make_unique`.\n",
      "  utils.warn_names_duplicates(\"var\")\n"
     ]
    },
    {
     "name": "stdout",
     "output_type": "stream",
     "text": [
      ">>> INFO: dataset name: dlpfc, slice id: 151673, size: (3639, 33538), cluster: 7.(1.613s)\n",
      "===== Preprocessing Data \n",
      "calculating distance matrix, it takes a while\n",
      "150 21124 2.9024457268480353\n"
     ]
    },
    {
     "name": "stderr",
     "output_type": "stream",
     "text": [
      "/mnt/5280e/twang/.conda/envs/torch+pyg/lib/python3.8/site-packages/torch_geometric/deprecation.py:12: UserWarning: 'data.DataLoader' is deprecated, use 'loader.DataLoader' instead\n",
      "  warnings.warn(out)\n"
     ]
    },
    {
     "name": "stdout",
     "output_type": "stream",
     "text": [
      ">>> graph contains 21124 edges, 5.8048914536960705 edges per node\n",
      ">>> begin to train DGI, shape: (3639, 300)\n"
     ]
    },
    {
     "name": "stderr",
     "output_type": "stream",
     "text": [
      "100%|██████████| 5000/5000 [01:37<00:00, 51.08it/s]\n"
     ]
    },
    {
     "name": "stdout",
     "output_type": "stream",
     "text": [
      "Training time in seconds:  97\n",
      "Shape of data to PCA: (3639, 256)\n",
      "Shape of data output by PCA: (3639, 50)\n",
      "PCA recover: 0.9435505\n",
      ">>> CCST: 36.0624\n",
      ">>> CCST_pca: 35.8968\n"
     ]
    },
    {
     "name": "stderr",
     "output_type": "stream",
     "text": [
      "/mnt/5280e/twang/.conda/envs/torch+pyg/lib/python3.8/site-packages/anndata/_core/anndata.py:1830: UserWarning: Variable names are not unique. To make them unique, call `.var_names_make_unique`.\n",
      "  utils.warn_names_duplicates(\"var\")\n"
     ]
    },
    {
     "name": "stdout",
     "output_type": "stream",
     "text": [
      ">>> INFO: dataset name: dlpfc, slice id: 151674, size: (3673, 33538), cluster: 7.(2.592s)\n",
      "===== Preprocessing Data \n",
      "calculating distance matrix, it takes a while\n",
      "150 21258 2.893819765858971\n"
     ]
    },
    {
     "name": "stderr",
     "output_type": "stream",
     "text": [
      "/mnt/5280e/twang/.conda/envs/torch+pyg/lib/python3.8/site-packages/torch_geometric/deprecation.py:12: UserWarning: 'data.DataLoader' is deprecated, use 'loader.DataLoader' instead\n",
      "  warnings.warn(out)\n"
     ]
    },
    {
     "name": "stdout",
     "output_type": "stream",
     "text": [
      ">>> graph contains 21258 edges, 5.787639531717942 edges per node\n",
      ">>> begin to train DGI, shape: (3673, 300)\n"
     ]
    },
    {
     "name": "stderr",
     "output_type": "stream",
     "text": [
      "100%|██████████| 5000/5000 [01:04<00:00, 77.87it/s]\n"
     ]
    },
    {
     "name": "stdout",
     "output_type": "stream",
     "text": [
      "Training time in seconds:  64\n",
      "Shape of data to PCA: (3673, 256)\n",
      "Shape of data output by PCA: (3673, 50)\n",
      "PCA recover: 0.9386825\n",
      ">>> CCST: 36.2078\n",
      ">>> CCST_pca: 35.8466\n"
     ]
    },
    {
     "name": "stderr",
     "output_type": "stream",
     "text": [
      "/mnt/5280e/twang/.conda/envs/torch+pyg/lib/python3.8/site-packages/anndata/_core/anndata.py:1830: UserWarning: Variable names are not unique. To make them unique, call `.var_names_make_unique`.\n",
      "  utils.warn_names_duplicates(\"var\")\n"
     ]
    },
    {
     "name": "stdout",
     "output_type": "stream",
     "text": [
      ">>> INFO: dataset name: dlpfc, slice id: 151675, size: (3592, 33538), cluster: 7.(1.721s)\n",
      "===== Preprocessing Data \n",
      "calculating distance matrix, it takes a while\n",
      "150 20762 2.8900334075723833\n"
     ]
    },
    {
     "name": "stderr",
     "output_type": "stream",
     "text": [
      "/mnt/5280e/twang/.conda/envs/torch+pyg/lib/python3.8/site-packages/torch_geometric/deprecation.py:12: UserWarning: 'data.DataLoader' is deprecated, use 'loader.DataLoader' instead\n",
      "  warnings.warn(out)\n"
     ]
    },
    {
     "name": "stdout",
     "output_type": "stream",
     "text": [
      ">>> graph contains 20762 edges, 5.7800668151447665 edges per node\n",
      ">>> begin to train DGI, shape: (3592, 300)\n"
     ]
    },
    {
     "name": "stderr",
     "output_type": "stream",
     "text": [
      "100%|██████████| 5000/5000 [01:03<00:00, 79.25it/s]\n"
     ]
    },
    {
     "name": "stdout",
     "output_type": "stream",
     "text": [
      "Training time in seconds:  63\n",
      "Shape of data to PCA: (3592, 256)\n",
      "Shape of data output by PCA: (3592, 50)\n",
      "PCA recover: 0.93195754\n",
      ">>> CCST: 37.1157\n",
      ">>> CCST_pca: 36.2071\n"
     ]
    },
    {
     "name": "stderr",
     "output_type": "stream",
     "text": [
      "/mnt/5280e/twang/.conda/envs/torch+pyg/lib/python3.8/site-packages/anndata/_core/anndata.py:1830: UserWarning: Variable names are not unique. To make them unique, call `.var_names_make_unique`.\n",
      "  utils.warn_names_duplicates(\"var\")\n"
     ]
    },
    {
     "name": "stdout",
     "output_type": "stream",
     "text": [
      ">>> INFO: dataset name: dlpfc, slice id: 151676, size: (3460, 33538), cluster: 7.(1.491s)\n",
      "===== Preprocessing Data \n",
      "calculating distance matrix, it takes a while\n",
      "150 20052 2.897687861271676\n"
     ]
    },
    {
     "name": "stderr",
     "output_type": "stream",
     "text": [
      "/mnt/5280e/twang/.conda/envs/torch+pyg/lib/python3.8/site-packages/torch_geometric/deprecation.py:12: UserWarning: 'data.DataLoader' is deprecated, use 'loader.DataLoader' instead\n",
      "  warnings.warn(out)\n"
     ]
    },
    {
     "name": "stdout",
     "output_type": "stream",
     "text": [
      ">>> graph contains 20052 edges, 5.795375722543352 edges per node\n",
      ">>> begin to train DGI, shape: (3460, 300)\n"
     ]
    },
    {
     "name": "stderr",
     "output_type": "stream",
     "text": [
      "100%|██████████| 5000/5000 [01:03<00:00, 78.84it/s]\n"
     ]
    },
    {
     "name": "stdout",
     "output_type": "stream",
     "text": [
      "Training time in seconds:  63\n",
      "Shape of data to PCA: (3460, 256)\n",
      "Shape of data output by PCA: (3460, 50)\n",
      "PCA recover: 0.93161494\n",
      ">>> CCST: 34.4886\n",
      ">>> CCST_pca: 45.5323\n"
     ]
    }
   ],
   "source": [
    "for i in range(12):\n",
    "    adata, n_cluster = get_data(dataset_func=get_dlpfc_data, id=i)\n",
    "    train(adata, 150, n_cluster)\n",
    "    ari, ari_pca = evaluate(adata, pred_list=['CCST', 'CCST_pca'])\n",
    "    np.save(f'result/embedding/CCST/dlpfc_{i}.npy', arr=np.array(adata.obsm['CCST']))\n",
    "    result.append(ari)\n",
    "    result_pca.append(ari_pca)"
   ]
  },
  {
   "attachments": {},
   "cell_type": "markdown",
   "metadata": {},
   "source": [
    "# 10x Visium hne"
   ]
  },
  {
   "cell_type": "code",
   "execution_count": 4,
   "metadata": {},
   "outputs": [
    {
     "name": "stderr",
     "output_type": "stream",
     "text": [
      "/mnt/5280e/twang/.conda/envs/torch+pyg/lib/python3.8/site-packages/scanpy/preprocessing/_highly_variable_genes.py:62: UserWarning: `flavor='seurat_v3'` expects raw count data, but non-integers were found.\n",
      "  warnings.warn(\n"
     ]
    },
    {
     "name": "stdout",
     "output_type": "stream",
     "text": [
      ">>> INFO: dataset name: 10x_visium_hne, size: (2688, 18078), cluster: 15.(2.605s)\n",
      "===== Preprocessing Data \n",
      "calculating distance matrix, it takes a while\n",
      "150 15580 2.8980654761904763\n"
     ]
    },
    {
     "name": "stderr",
     "output_type": "stream",
     "text": [
      "/mnt/5280e/twang/.conda/envs/torch+pyg/lib/python3.8/site-packages/torch_geometric/deprecation.py:12: UserWarning: 'data.DataLoader' is deprecated, use 'loader.DataLoader' instead\n",
      "  warnings.warn(out)\n"
     ]
    },
    {
     "name": "stdout",
     "output_type": "stream",
     "text": [
      ">>> graph contains 15580 edges, 5.7961309523809526 edges per node\n",
      ">>> begin to train DGI, shape: (2688, 300)\n"
     ]
    },
    {
     "name": "stderr",
     "output_type": "stream",
     "text": [
      "100%|██████████| 5000/5000 [01:01<00:00, 81.00it/s]\n"
     ]
    },
    {
     "name": "stdout",
     "output_type": "stream",
     "text": [
      "Training time in seconds:  61\n",
      "Shape of data to PCA: (2688, 256)\n",
      "Shape of data output by PCA: (2688, 50)\n",
      "PCA recover: 0.9590358\n",
      ">>> CCST: 44.4479\n",
      ">>> CCST_pca: 46.6081\n"
     ]
    }
   ],
   "source": [
    "adata, n_cluster = get_data(dataset_func=get_visium_hne_data, path='st_datasets/visium_hne.h5ad')\n",
    "train(adata, 150, n_cluster)\n",
    "ari, ari_pca = evaluate(adata, pred_list=['CCST', 'CCST_pca'])\n",
    "np.save(f'result/embedding/CCST/visium_hne.npy', arr=np.array(adata.obsm['CCST']))\n",
    "result.append(ari)\n",
    "result_pca.append(ari_pca)"
   ]
  },
  {
   "attachments": {},
   "cell_type": "markdown",
   "metadata": {},
   "source": [
    "# 10x Visium fluo"
   ]
  },
  {
   "cell_type": "code",
   "execution_count": 5,
   "metadata": {},
   "outputs": [
    {
     "name": "stderr",
     "output_type": "stream",
     "text": [
      "/mnt/5280e/twang/.conda/envs/torch+pyg/lib/python3.8/site-packages/scanpy/preprocessing/_highly_variable_genes.py:62: UserWarning: `flavor='seurat_v3'` expects raw count data, but non-integers were found.\n",
      "  warnings.warn(\n"
     ]
    },
    {
     "name": "stdout",
     "output_type": "stream",
     "text": [
      ">>> INFO: dataset name: 10x_visium_fluo, size: (2800, 16562), cluster: 15.(1.709s)\n",
      "===== Preprocessing Data \n",
      "calculating distance matrix, it takes a while\n",
      "350 16328 2.915714285714286\n"
     ]
    },
    {
     "name": "stderr",
     "output_type": "stream",
     "text": [
      "/mnt/5280e/twang/.conda/envs/torch+pyg/lib/python3.8/site-packages/torch_geometric/deprecation.py:12: UserWarning: 'data.DataLoader' is deprecated, use 'loader.DataLoader' instead\n",
      "  warnings.warn(out)\n"
     ]
    },
    {
     "name": "stdout",
     "output_type": "stream",
     "text": [
      ">>> graph contains 16328 edges, 5.831428571428572 edges per node\n",
      ">>> begin to train DGI, shape: (2800, 300)\n"
     ]
    },
    {
     "name": "stderr",
     "output_type": "stream",
     "text": [
      "100%|██████████| 5000/5000 [01:00<00:00, 83.23it/s]\n"
     ]
    },
    {
     "name": "stdout",
     "output_type": "stream",
     "text": [
      "Training time in seconds:  60\n",
      "Shape of data to PCA: (2800, 256)\n",
      "Shape of data output by PCA: (2800, 50)\n",
      "PCA recover: 0.9548299\n",
      ">>> CCST: 47.3449\n",
      ">>> CCST_pca: 47.2109\n"
     ]
    }
   ],
   "source": [
    "\n",
    "adata, n_cluster = get_data(dataset_func=get_visium_fluo_data, path='st_datasets/visium_fluo.h5ad')\n",
    "train(adata, 350, n_cluster)\n",
    "ari, ari_pca = evaluate(adata, pred_list=['CCST', 'CCST_pca'])\n",
    "np.save(f'result/embedding/CCST/visium_fluo.npy', arr=np.array(adata.obsm['CCST']))\n",
    "result.append(ari)\n",
    "result_pca.append(ari_pca)"
   ]
  },
  {
   "cell_type": "code",
   "execution_count": 6,
   "metadata": {},
   "outputs": [
    {
     "name": "stdout",
     "output_type": "stream",
     "text": [
      "[54.04520619088423, 43.516644739286654, 35.02993378609742, 41.0422607693763, 32.74196515997573, 34.982227989207054, 30.392718534891884, 43.74952834859304, 43.45199918935394, 36.06244100680091, 36.2077603689678, 37.115708583817835, 34.488551684051956, 44.44786868200258, 47.3449150875249]\n",
      "[54.98408498734534, 44.42085843835535, 35.11886642169056, 41.14009580196674, 32.96514850313432, 34.254566034115705, 30.371301760389407, 43.505175304692365, 43.5980512294677, 35.89679079013975, 35.8465607150824, 36.207130044830116, 45.53231214635741, 46.60809020014495, 47.21086728022951]\n"
     ]
    }
   ],
   "source": [
    "print(result)\n",
    "print(result_pca)"
   ]
  }
 ],
 "metadata": {
  "kernelspec": {
   "display_name": "Python 3 (ipykernel)",
   "language": "python",
   "name": "python3"
  },
  "language_info": {
   "codemirror_mode": {
    "name": "ipython",
    "version": 3
   },
   "file_extension": ".py",
   "mimetype": "text/x-python",
   "name": "python",
   "nbconvert_exporter": "python",
   "pygments_lexer": "ipython3",
   "version": "3.8.13"
  }
 },
 "nbformat": 4,
 "nbformat_minor": 2
}
